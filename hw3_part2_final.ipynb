{
 "cells": [
  {
   "cell_type": "markdown",
   "metadata": {
    "_cell_guid": "b1076dfc-b9ad-4769-8c92-a6c4dae69d19",
    "_uuid": "8f2839f25d086af736a60e9eeb907d3b93b6e0e5"
   },
   "source": [
    "# Quiz2/HW3 Hackathon\n",
    "\n",
    "Team name: HONEYBADGERRS\n",
    "\n",
    "Member names: Ryan Richardson, Jarret Guillow, Grace Gupta"
   ]
  },
  {
   "cell_type": "markdown",
   "metadata": {},
   "source": [
    "Use this Jupyter Notebook as a template to get started. Before you start, here are a few hints that might help you"
   ]
  },
  {
   "cell_type": "markdown",
   "metadata": {},
   "source": [
    "### Iterate your solution based on a simple first submission\n",
    "\n",
    "For the quiz, try to use the numerical variables first. Fit a regression model on the numerical variables first and create a submission quickly. You can then try various other things and iterate your code based on the simple solution. Use Google to find code to solve the problems you encounter—e.g., how to select only the categorical variables in the DataFrame, how to impute missing data, etc."
   ]
  },
  {
   "cell_type": "markdown",
   "metadata": {
    "_cell_guid": "79c7e3d0-c299-4dcb-8224-4455121ee9b0",
    "_uuid": "d629ff2d2480ee46fbb7e2d37f6b5fab8052498a",
    "collapsed": true
   },
   "source": [
    "### NAs (missing values) in both training set and test set\n",
    "\n",
    "In the dataset you are working with in this competition, you will find that both the training set and test set have NAs (missing values). If the test set has missing values, your model will not be able to predict on the entire set. How do you deal with it? (Hint: one idea is to concatenate the training set and test set, fill in NAs with the means/median/mode or whatever you choose, then split them up again)."
   ]
  },
  {
   "cell_type": "markdown",
   "metadata": {},
   "source": [
    "### Categorical variables\n",
    "\n",
    "We have not discussed how to deal with categorical variables. They do not fit that easily into regression models. But how do we fully utilize them nontheless? (Hint: convert them into dummy variables, typically using one-hot encoding. https://pandas.pydata.org/pandas-docs/stable/reference/api/pandas.get_dummies.html)"
   ]
  },
  {
   "cell_type": "markdown",
   "metadata": {},
   "source": [
    "### Model Evaluation\n",
    "\n",
    "Your model will be evaluated using its Root Mean Squared Error (MSE) on the test set. (As usual, you do not have the labels on the test set, of course; so you cannot directly measure the RMSE on it.) You can calculate the MSE on a dataset using scikit-learn https://scikit-learn.org/stable/modules/generated/sklearn.metrics.mean_squared_error.html. Then take the squared root of the MSE to get the RMSE."
   ]
  },
  {
   "cell_type": "code",
   "execution_count": 1,
   "metadata": {},
   "outputs": [],
   "source": [
    "import pandas as pd\n",
    "import numpy as np\n",
    "train = pd.read_csv('/Users/gracegupta/Desktop/housing_data/train.csv')"
   ]
  },
  {
   "cell_type": "code",
   "execution_count": 2,
   "metadata": {
    "scrolled": true
   },
   "outputs": [
    {
     "data": {
      "text/html": [
       "<div>\n",
       "<style scoped>\n",
       "    .dataframe tbody tr th:only-of-type {\n",
       "        vertical-align: middle;\n",
       "    }\n",
       "\n",
       "    .dataframe tbody tr th {\n",
       "        vertical-align: top;\n",
       "    }\n",
       "\n",
       "    .dataframe thead th {\n",
       "        text-align: right;\n",
       "    }\n",
       "</style>\n",
       "<table border=\"1\" class=\"dataframe\">\n",
       "  <thead>\n",
       "    <tr style=\"text-align: right;\">\n",
       "      <th></th>\n",
       "      <th>Id</th>\n",
       "      <th>MS SubClass</th>\n",
       "      <th>MS Zoning</th>\n",
       "      <th>Lot Frontage</th>\n",
       "      <th>Lot Area</th>\n",
       "      <th>Street</th>\n",
       "      <th>Alley</th>\n",
       "      <th>Lot Shape</th>\n",
       "      <th>Land Contour</th>\n",
       "      <th>Utilities</th>\n",
       "      <th>...</th>\n",
       "      <th>Pool Area</th>\n",
       "      <th>Pool QC</th>\n",
       "      <th>Fence</th>\n",
       "      <th>Misc Feature</th>\n",
       "      <th>Misc Val</th>\n",
       "      <th>Mo Sold</th>\n",
       "      <th>Yr Sold</th>\n",
       "      <th>Sale Type</th>\n",
       "      <th>Sale Condition</th>\n",
       "      <th>SalePrice</th>\n",
       "    </tr>\n",
       "  </thead>\n",
       "  <tbody>\n",
       "    <tr>\n",
       "      <th>0</th>\n",
       "      <td>0</td>\n",
       "      <td>20</td>\n",
       "      <td>RL</td>\n",
       "      <td>NaN</td>\n",
       "      <td>9248</td>\n",
       "      <td>Pave</td>\n",
       "      <td>NaN</td>\n",
       "      <td>IR1</td>\n",
       "      <td>Lvl</td>\n",
       "      <td>AllPub</td>\n",
       "      <td>...</td>\n",
       "      <td>0</td>\n",
       "      <td>NaN</td>\n",
       "      <td>NaN</td>\n",
       "      <td>NaN</td>\n",
       "      <td>0</td>\n",
       "      <td>7</td>\n",
       "      <td>2009</td>\n",
       "      <td>WD</td>\n",
       "      <td>Normal</td>\n",
       "      <td>173000</td>\n",
       "    </tr>\n",
       "    <tr>\n",
       "      <th>1</th>\n",
       "      <td>1</td>\n",
       "      <td>70</td>\n",
       "      <td>RM</td>\n",
       "      <td>60.0</td>\n",
       "      <td>7200</td>\n",
       "      <td>Pave</td>\n",
       "      <td>NaN</td>\n",
       "      <td>Reg</td>\n",
       "      <td>Lvl</td>\n",
       "      <td>AllPub</td>\n",
       "      <td>...</td>\n",
       "      <td>0</td>\n",
       "      <td>NaN</td>\n",
       "      <td>NaN</td>\n",
       "      <td>NaN</td>\n",
       "      <td>0</td>\n",
       "      <td>10</td>\n",
       "      <td>2006</td>\n",
       "      <td>WD</td>\n",
       "      <td>Normal</td>\n",
       "      <td>157000</td>\n",
       "    </tr>\n",
       "    <tr>\n",
       "      <th>2</th>\n",
       "      <td>2</td>\n",
       "      <td>160</td>\n",
       "      <td>RM</td>\n",
       "      <td>24.0</td>\n",
       "      <td>1950</td>\n",
       "      <td>Pave</td>\n",
       "      <td>NaN</td>\n",
       "      <td>Reg</td>\n",
       "      <td>Lvl</td>\n",
       "      <td>AllPub</td>\n",
       "      <td>...</td>\n",
       "      <td>0</td>\n",
       "      <td>NaN</td>\n",
       "      <td>GdPrv</td>\n",
       "      <td>NaN</td>\n",
       "      <td>0</td>\n",
       "      <td>7</td>\n",
       "      <td>2008</td>\n",
       "      <td>COD</td>\n",
       "      <td>Normal</td>\n",
       "      <td>151000</td>\n",
       "    </tr>\n",
       "    <tr>\n",
       "      <th>3</th>\n",
       "      <td>3</td>\n",
       "      <td>20</td>\n",
       "      <td>RL</td>\n",
       "      <td>NaN</td>\n",
       "      <td>9790</td>\n",
       "      <td>Pave</td>\n",
       "      <td>NaN</td>\n",
       "      <td>Reg</td>\n",
       "      <td>Lvl</td>\n",
       "      <td>AllPub</td>\n",
       "      <td>...</td>\n",
       "      <td>0</td>\n",
       "      <td>NaN</td>\n",
       "      <td>NaN</td>\n",
       "      <td>NaN</td>\n",
       "      <td>0</td>\n",
       "      <td>9</td>\n",
       "      <td>2009</td>\n",
       "      <td>WD</td>\n",
       "      <td>Normal</td>\n",
       "      <td>161500</td>\n",
       "    </tr>\n",
       "    <tr>\n",
       "      <th>4</th>\n",
       "      <td>4</td>\n",
       "      <td>50</td>\n",
       "      <td>RL</td>\n",
       "      <td>60.0</td>\n",
       "      <td>8064</td>\n",
       "      <td>Pave</td>\n",
       "      <td>NaN</td>\n",
       "      <td>Reg</td>\n",
       "      <td>Lvl</td>\n",
       "      <td>AllPub</td>\n",
       "      <td>...</td>\n",
       "      <td>0</td>\n",
       "      <td>NaN</td>\n",
       "      <td>GdWo</td>\n",
       "      <td>NaN</td>\n",
       "      <td>0</td>\n",
       "      <td>9</td>\n",
       "      <td>2008</td>\n",
       "      <td>WD</td>\n",
       "      <td>Normal</td>\n",
       "      <td>138000</td>\n",
       "    </tr>\n",
       "  </tbody>\n",
       "</table>\n",
       "<p>5 rows × 81 columns</p>\n",
       "</div>"
      ],
      "text/plain": [
       "   Id  MS SubClass MS Zoning  Lot Frontage  Lot Area Street Alley Lot Shape  \\\n",
       "0   0           20        RL           NaN      9248   Pave   NaN       IR1   \n",
       "1   1           70        RM          60.0      7200   Pave   NaN       Reg   \n",
       "2   2          160        RM          24.0      1950   Pave   NaN       Reg   \n",
       "3   3           20        RL           NaN      9790   Pave   NaN       Reg   \n",
       "4   4           50        RL          60.0      8064   Pave   NaN       Reg   \n",
       "\n",
       "  Land Contour Utilities    ...     Pool Area Pool QC  Fence Misc Feature  \\\n",
       "0          Lvl    AllPub    ...             0     NaN    NaN          NaN   \n",
       "1          Lvl    AllPub    ...             0     NaN    NaN          NaN   \n",
       "2          Lvl    AllPub    ...             0     NaN  GdPrv          NaN   \n",
       "3          Lvl    AllPub    ...             0     NaN    NaN          NaN   \n",
       "4          Lvl    AllPub    ...             0     NaN   GdWo          NaN   \n",
       "\n",
       "  Misc Val Mo Sold Yr Sold  Sale Type  Sale Condition  SalePrice  \n",
       "0        0       7    2009        WD           Normal     173000  \n",
       "1        0      10    2006        WD           Normal     157000  \n",
       "2        0       7    2008        COD          Normal     151000  \n",
       "3        0       9    2009        WD           Normal     161500  \n",
       "4        0       9    2008        WD           Normal     138000  \n",
       "\n",
       "[5 rows x 81 columns]"
      ]
     },
     "execution_count": 2,
     "metadata": {},
     "output_type": "execute_result"
    }
   ],
   "source": [
    "train.head()"
   ]
  },
  {
   "cell_type": "code",
   "execution_count": 3,
   "metadata": {},
   "outputs": [
    {
     "data": {
      "text/plain": [
       "(2001, 81)"
      ]
     },
     "execution_count": 3,
     "metadata": {},
     "output_type": "execute_result"
    }
   ],
   "source": [
    "train.shape"
   ]
  },
  {
   "cell_type": "markdown",
   "metadata": {},
   "source": [
    "Get numeric data"
   ]
  },
  {
   "cell_type": "code",
   "execution_count": 4,
   "metadata": {},
   "outputs": [],
   "source": [
    "train_numeric = train._get_numeric_data()"
   ]
  },
  {
   "cell_type": "code",
   "execution_count": 5,
   "metadata": {},
   "outputs": [
    {
     "data": {
      "text/plain": [
       "(2001, 38)"
      ]
     },
     "execution_count": 5,
     "metadata": {},
     "output_type": "execute_result"
    }
   ],
   "source": [
    "train_numeric.shape #there are 38 numeric columns including ID and SalePrice"
   ]
  },
  {
   "cell_type": "markdown",
   "metadata": {},
   "source": [
    "Get categorical data"
   ]
  },
  {
   "cell_type": "code",
   "execution_count": 6,
   "metadata": {},
   "outputs": [],
   "source": [
    "categorical_cols = [] #contains labels for all categorical columns\n",
    "for col in train.columns:\n",
    "    if col not in train_numeric.columns:\n",
    "        categorical_cols.append(col)"
   ]
  },
  {
   "cell_type": "code",
   "execution_count": 7,
   "metadata": {},
   "outputs": [],
   "source": [
    "train_categorical = train[categorical_cols]"
   ]
  },
  {
   "cell_type": "code",
   "execution_count": 8,
   "metadata": {},
   "outputs": [
    {
     "data": {
      "text/plain": [
       "(2001, 43)"
      ]
     },
     "execution_count": 8,
     "metadata": {},
     "output_type": "execute_result"
    }
   ],
   "source": [
    "train_categorical.shape #there are 43 categorical columns"
   ]
  },
  {
   "cell_type": "markdown",
   "metadata": {},
   "source": [
    "# Dealing with categorical data"
   ]
  },
  {
   "cell_type": "markdown",
   "metadata": {},
   "source": [
    "Look at distribution of null values"
   ]
  },
  {
   "cell_type": "code",
   "execution_count": 9,
   "metadata": {},
   "outputs": [
    {
     "data": {
      "text/plain": [
       "MS Zoning            0\n",
       "Street               0\n",
       "Alley             1872\n",
       "Lot Shape            0\n",
       "Land Contour         0\n",
       "Utilities            0\n",
       "Lot Config           0\n",
       "Land Slope           0\n",
       "Neighborhood         0\n",
       "Condition 1          0\n",
       "Condition 2          0\n",
       "Bldg Type            0\n",
       "House Style          0\n",
       "Roof Style           0\n",
       "Roof Matl            0\n",
       "Exterior 1st         0\n",
       "Exterior 2nd         0\n",
       "Mas Vnr Type        16\n",
       "Exter Qual           0\n",
       "Exter Cond           0\n",
       "Foundation           0\n",
       "Bsmt Qual           53\n",
       "Bsmt Cond           53\n",
       "Bsmt Exposure       56\n",
       "BsmtFin Type 1      53\n",
       "BsmtFin Type 2      54\n",
       "Heating              0\n",
       "Heating QC           0\n",
       "Central Air          0\n",
       "Electrical           1\n",
       "Kitchen Qual         0\n",
       "Functional           0\n",
       "Fireplace Qu       936\n",
       "Garage Type        104\n",
       "Garage Finish      106\n",
       "Garage Qual        106\n",
       "Garage Cond        106\n",
       "Paved Drive          0\n",
       "Pool QC           1989\n",
       "Fence             1633\n",
       "Misc Feature      1929\n",
       "Sale Type            0\n",
       "Sale Condition       0\n",
       "dtype: int64"
      ]
     },
     "execution_count": 9,
     "metadata": {},
     "output_type": "execute_result"
    }
   ],
   "source": [
    "np.sum(train_categorical.isnull())"
   ]
  },
  {
   "cell_type": "markdown",
   "metadata": {},
   "source": [
    "Drop columns with more than 1000 null values"
   ]
  },
  {
   "cell_type": "code",
   "execution_count": 10,
   "metadata": {},
   "outputs": [],
   "source": [
    "train_cat_new = train_categorical.dropna(thresh=1000, axis=1)"
   ]
  },
  {
   "cell_type": "code",
   "execution_count": 11,
   "metadata": {},
   "outputs": [
    {
     "data": {
      "text/plain": [
       "MS Zoning           0\n",
       "Street              0\n",
       "Lot Shape           0\n",
       "Land Contour        0\n",
       "Utilities           0\n",
       "Lot Config          0\n",
       "Land Slope          0\n",
       "Neighborhood        0\n",
       "Condition 1         0\n",
       "Condition 2         0\n",
       "Bldg Type           0\n",
       "House Style         0\n",
       "Roof Style          0\n",
       "Roof Matl           0\n",
       "Exterior 1st        0\n",
       "Exterior 2nd        0\n",
       "Mas Vnr Type       16\n",
       "Exter Qual          0\n",
       "Exter Cond          0\n",
       "Foundation          0\n",
       "Bsmt Qual          53\n",
       "Bsmt Cond          53\n",
       "Bsmt Exposure      56\n",
       "BsmtFin Type 1     53\n",
       "BsmtFin Type 2     54\n",
       "Heating             0\n",
       "Heating QC          0\n",
       "Central Air         0\n",
       "Electrical          1\n",
       "Kitchen Qual        0\n",
       "Functional          0\n",
       "Fireplace Qu      936\n",
       "Garage Type       104\n",
       "Garage Finish     106\n",
       "Garage Qual       106\n",
       "Garage Cond       106\n",
       "Paved Drive         0\n",
       "Sale Type           0\n",
       "Sale Condition      0\n",
       "dtype: int64"
      ]
     },
     "execution_count": 11,
     "metadata": {},
     "output_type": "execute_result"
    }
   ],
   "source": [
    "np.sum(train_cat_new.isnull())"
   ]
  },
  {
   "cell_type": "code",
   "execution_count": 12,
   "metadata": {},
   "outputs": [
    {
     "data": {
      "text/plain": [
       "(2001, 39)"
      ]
     },
     "execution_count": 12,
     "metadata": {},
     "output_type": "execute_result"
    }
   ],
   "source": [
    "train_cat_new.shape"
   ]
  },
  {
   "cell_type": "markdown",
   "metadata": {},
   "source": [
    "# Using Cramer's V to identify multicollinearity among categorical variables"
   ]
  },
  {
   "cell_type": "code",
   "execution_count": 13,
   "metadata": {},
   "outputs": [],
   "source": [
    "import scipy\n",
    "from scipy import stats as ss"
   ]
  },
  {
   "cell_type": "code",
   "execution_count": 14,
   "metadata": {},
   "outputs": [],
   "source": [
    "def cramers_v(x, y):\n",
    "    confusion_matrix = pd.crosstab(x,y)\n",
    "    chi2 = ss.chi2_contingency(confusion_matrix)[0]\n",
    "    n = confusion_matrix.sum().sum()\n",
    "    phi2 = chi2/n\n",
    "    r,k = confusion_matrix.shape\n",
    "    phi2corr = max(0, phi2-((k-1)*(r-1))/(n-1))\n",
    "    rcorr = r-((r-1)**2)/(n-1)\n",
    "    kcorr = k-((k-1)**2)/(n-1)\n",
    "    return np.sqrt(phi2corr/min((kcorr-1),(rcorr-1)))"
   ]
  },
  {
   "cell_type": "code",
   "execution_count": 15,
   "metadata": {
    "scrolled": true
   },
   "outputs": [
    {
     "name": "stdout",
     "output_type": "stream",
     "text": [
      "MS Zoning Utilities\n",
      "0.998748591675947\n",
      "MS Zoning Neighborhood\n",
      "0.5234232681237401\n",
      "MS Zoning Heating QC\n",
      "0.5126112548776743\n",
      "Utilities MS Zoning\n",
      "0.998748591675947\n"
     ]
    },
    {
     "name": "stderr",
     "output_type": "stream",
     "text": [
      "/Users/gracegupta/anaconda3/lib/python3.6/site-packages/ipykernel_launcher.py:10: RuntimeWarning: invalid value encountered in double_scalars\n",
      "  # Remove the CWD from sys.path while we load stuff.\n"
     ]
    },
    {
     "name": "stdout",
     "output_type": "stream",
     "text": [
      "Neighborhood MS Zoning\n",
      "0.5234232681237401\n",
      "Neighborhood Exter Qual\n",
      "0.5053663672565124\n",
      "Exterior 1st Exterior 2nd\n",
      "0.7754885964857037\n",
      "Exterior 2nd Exterior 1st\n",
      "0.7754885964857037\n",
      "Exter Qual Neighborhood\n",
      "0.5053663672565124\n",
      "Exter Qual Kitchen Qual\n",
      "0.5578627340476368\n",
      "Heating QC MS Zoning\n",
      "0.5126112548776743\n",
      "Kitchen Qual Exter Qual\n",
      "0.5578627340476368\n",
      "Garage Qual Garage Cond\n",
      "0.5237743296463221\n",
      "Garage Cond Garage Qual\n",
      "0.5237743296463221\n"
     ]
    }
   ],
   "source": [
    "for col in train_cat_new.columns: #col = x\n",
    "    for col2 in train_cat_new.columns: #col2 = y\n",
    "        if col2 != col:\n",
    "            score = cramers_v(train_cat_new[col], train_cat_new[col2])\n",
    "            if score > 0.5:\n",
    "                print(col, col2) \n",
    "                print(score)"
   ]
  },
  {
   "cell_type": "markdown",
   "metadata": {},
   "source": [
    "# Fit model to features w/ low Cramer's V"
   ]
  },
  {
   "cell_type": "code",
   "execution_count": 16,
   "metadata": {
    "scrolled": false
   },
   "outputs": [
    {
     "data": {
      "text/plain": [
       "Index(['MS Zoning', 'Street', 'Lot Shape', 'Land Contour', 'Utilities',\n",
       "       'Lot Config', 'Land Slope', 'Neighborhood', 'Condition 1',\n",
       "       'Condition 2', 'Bldg Type', 'House Style', 'Roof Style', 'Roof Matl',\n",
       "       'Exterior 1st', 'Exterior 2nd', 'Mas Vnr Type', 'Exter Qual',\n",
       "       'Exter Cond', 'Foundation', 'Bsmt Qual', 'Bsmt Cond', 'Bsmt Exposure',\n",
       "       'BsmtFin Type 1', 'BsmtFin Type 2', 'Heating', 'Heating QC',\n",
       "       'Central Air', 'Electrical', 'Kitchen Qual', 'Functional',\n",
       "       'Fireplace Qu', 'Garage Type', 'Garage Finish', 'Garage Qual',\n",
       "       'Garage Cond', 'Paved Drive', 'Sale Type', 'Sale Condition'],\n",
       "      dtype='object')"
      ]
     },
     "execution_count": 16,
     "metadata": {},
     "output_type": "execute_result"
    }
   ],
   "source": [
    "train_cat_new.columns"
   ]
  },
  {
   "cell_type": "code",
   "execution_count": 17,
   "metadata": {},
   "outputs": [],
   "source": [
    "col_to_exclude = ['MS Zoning', 'Exterior 2nd','Garage Cond', 'Sale Type','Heating QC','Exter Qual','Garage Type','Garage Finish',\n",
    "                 'Condition 1','Condition 2','Street','Lot Shape','Land Contour','Utilities','Lot Config','Land Slope','Bldg Type',\n",
    "                 'Roof Style','Roof Matl','Exterior 1st','Mas Vnr Type','Exter Cond','Foundation','Bsmt Cond','BsmtFin Type 1',\n",
    "                 'BsmtFin Type 2','Central Air','Electrical','Functional','Garage Qual','Sale Condition']"
   ]
  },
  {
   "cell_type": "code",
   "execution_count": 18,
   "metadata": {},
   "outputs": [],
   "source": [
    "X_train_cat = train_cat_new.drop(col_to_exclude, axis=1)"
   ]
  },
  {
   "cell_type": "code",
   "execution_count": 19,
   "metadata": {},
   "outputs": [
    {
     "data": {
      "text/plain": [
       "Index(['Neighborhood', 'House Style', 'Bsmt Qual', 'Bsmt Exposure', 'Heating',\n",
       "       'Kitchen Qual', 'Fireplace Qu', 'Paved Drive'],\n",
       "      dtype='object')"
      ]
     },
     "execution_count": 19,
     "metadata": {},
     "output_type": "execute_result"
    }
   ],
   "source": [
    "X_train_cat.columns"
   ]
  },
  {
   "cell_type": "code",
   "execution_count": 20,
   "metadata": {},
   "outputs": [
    {
     "data": {
      "text/plain": [
       "(2001, 8)"
      ]
     },
     "execution_count": 20,
     "metadata": {},
     "output_type": "execute_result"
    }
   ],
   "source": [
    "X_train_cat.shape"
   ]
  },
  {
   "cell_type": "code",
   "execution_count": 21,
   "metadata": {},
   "outputs": [],
   "source": [
    "X_train_cat_dummies = pd.get_dummies(X_train_cat) #when creating dummies, all nulls get dropped"
   ]
  },
  {
   "cell_type": "code",
   "execution_count": 22,
   "metadata": {},
   "outputs": [
    {
     "data": {
      "text/plain": [
       "(2001, 64)"
      ]
     },
     "execution_count": 22,
     "metadata": {},
     "output_type": "execute_result"
    }
   ],
   "source": [
    "X_train_cat_dummies.shape"
   ]
  },
  {
   "cell_type": "code",
   "execution_count": 23,
   "metadata": {},
   "outputs": [],
   "source": [
    "y = train_numeric[\"SalePrice\"]"
   ]
  },
  {
   "cell_type": "code",
   "execution_count": 24,
   "metadata": {},
   "outputs": [],
   "source": [
    "X_train_cat_dummies = X_train_cat_dummies.reindex(y.index) #reindex dummies"
   ]
  },
  {
   "cell_type": "code",
   "execution_count": 25,
   "metadata": {},
   "outputs": [],
   "source": [
    "import statsmodels.api as sm\n",
    "\n",
    "model_cat = sm.OLS(y, sm.add_constant(X_train_cat_dummies)).fit()"
   ]
  },
  {
   "cell_type": "code",
   "execution_count": 26,
   "metadata": {},
   "outputs": [
    {
     "data": {
      "text/html": [
       "<table class=\"simpletable\">\n",
       "<caption>OLS Regression Results</caption>\n",
       "<tr>\n",
       "  <th>Dep. Variable:</th>        <td>SalePrice</td>    <th>  R-squared:         </th> <td>   0.782</td> \n",
       "</tr>\n",
       "<tr>\n",
       "  <th>Model:</th>                   <td>OLS</td>       <th>  Adj. R-squared:    </th> <td>   0.776</td> \n",
       "</tr>\n",
       "<tr>\n",
       "  <th>Method:</th>             <td>Least Squares</td>  <th>  F-statistic:       </th> <td>   118.1</td> \n",
       "</tr>\n",
       "<tr>\n",
       "  <th>Date:</th>             <td>Sun, 23 Feb 2020</td> <th>  Prob (F-statistic):</th>  <td>  0.00</td>  \n",
       "</tr>\n",
       "<tr>\n",
       "  <th>Time:</th>                 <td>18:05:31</td>     <th>  Log-Likelihood:    </th> <td> -23961.</td> \n",
       "</tr>\n",
       "<tr>\n",
       "  <th>No. Observations:</th>      <td>  2001</td>      <th>  AIC:               </th> <td>4.804e+04</td>\n",
       "</tr>\n",
       "<tr>\n",
       "  <th>Df Residuals:</th>          <td>  1941</td>      <th>  BIC:               </th> <td>4.838e+04</td>\n",
       "</tr>\n",
       "<tr>\n",
       "  <th>Df Model:</th>              <td>    59</td>      <th>                     </th>     <td> </td>    \n",
       "</tr>\n",
       "<tr>\n",
       "  <th>Covariance Type:</th>      <td>nonrobust</td>    <th>                     </th>     <td> </td>    \n",
       "</tr>\n",
       "</table>\n",
       "<table class=\"simpletable\">\n",
       "<tr>\n",
       "            <td></td>              <th>coef</th>     <th>std err</th>      <th>t</th>      <th>P>|t|</th>  <th>[0.025</th>    <th>0.975]</th>  \n",
       "</tr>\n",
       "<tr>\n",
       "  <th>const</th>                <td>-1.925e+16</td> <td> 8.48e+16</td> <td>   -0.227</td> <td> 0.820</td> <td>-1.86e+17</td> <td> 1.47e+17</td>\n",
       "</tr>\n",
       "<tr>\n",
       "  <th>Neighborhood_Blmngtn</th> <td> -8.05e+14</td> <td> 3.55e+15</td> <td>   -0.227</td> <td> 0.820</td> <td>-7.76e+15</td> <td> 6.15e+15</td>\n",
       "</tr>\n",
       "<tr>\n",
       "  <th>Neighborhood_Blueste</th> <td> -8.05e+14</td> <td> 3.55e+15</td> <td>   -0.227</td> <td> 0.820</td> <td>-7.76e+15</td> <td> 6.15e+15</td>\n",
       "</tr>\n",
       "<tr>\n",
       "  <th>Neighborhood_BrDale</th>  <td> -8.05e+14</td> <td> 3.55e+15</td> <td>   -0.227</td> <td> 0.820</td> <td>-7.76e+15</td> <td> 6.15e+15</td>\n",
       "</tr>\n",
       "<tr>\n",
       "  <th>Neighborhood_BrkSide</th> <td> -8.05e+14</td> <td> 3.55e+15</td> <td>   -0.227</td> <td> 0.820</td> <td>-7.76e+15</td> <td> 6.15e+15</td>\n",
       "</tr>\n",
       "<tr>\n",
       "  <th>Neighborhood_ClearCr</th> <td> -8.05e+14</td> <td> 3.55e+15</td> <td>   -0.227</td> <td> 0.820</td> <td>-7.76e+15</td> <td> 6.15e+15</td>\n",
       "</tr>\n",
       "<tr>\n",
       "  <th>Neighborhood_CollgCr</th> <td> -8.05e+14</td> <td> 3.55e+15</td> <td>   -0.227</td> <td> 0.820</td> <td>-7.76e+15</td> <td> 6.15e+15</td>\n",
       "</tr>\n",
       "<tr>\n",
       "  <th>Neighborhood_Crawfor</th> <td> -8.05e+14</td> <td> 3.55e+15</td> <td>   -0.227</td> <td> 0.820</td> <td>-7.76e+15</td> <td> 6.15e+15</td>\n",
       "</tr>\n",
       "<tr>\n",
       "  <th>Neighborhood_Edwards</th> <td> -8.05e+14</td> <td> 3.55e+15</td> <td>   -0.227</td> <td> 0.820</td> <td>-7.76e+15</td> <td> 6.15e+15</td>\n",
       "</tr>\n",
       "<tr>\n",
       "  <th>Neighborhood_Gilbert</th> <td> -8.05e+14</td> <td> 3.55e+15</td> <td>   -0.227</td> <td> 0.820</td> <td>-7.76e+15</td> <td> 6.15e+15</td>\n",
       "</tr>\n",
       "<tr>\n",
       "  <th>Neighborhood_Greens</th>  <td> -8.05e+14</td> <td> 3.55e+15</td> <td>   -0.227</td> <td> 0.820</td> <td>-7.76e+15</td> <td> 6.15e+15</td>\n",
       "</tr>\n",
       "<tr>\n",
       "  <th>Neighborhood_GrnHill</th> <td> -8.05e+14</td> <td> 3.55e+15</td> <td>   -0.227</td> <td> 0.820</td> <td>-7.76e+15</td> <td> 6.15e+15</td>\n",
       "</tr>\n",
       "<tr>\n",
       "  <th>Neighborhood_IDOTRR</th>  <td> -8.05e+14</td> <td> 3.55e+15</td> <td>   -0.227</td> <td> 0.820</td> <td>-7.76e+15</td> <td> 6.15e+15</td>\n",
       "</tr>\n",
       "<tr>\n",
       "  <th>Neighborhood_Landmrk</th> <td> -8.05e+14</td> <td> 3.55e+15</td> <td>   -0.227</td> <td> 0.820</td> <td>-7.76e+15</td> <td> 6.15e+15</td>\n",
       "</tr>\n",
       "<tr>\n",
       "  <th>Neighborhood_MeadowV</th> <td> -8.05e+14</td> <td> 3.55e+15</td> <td>   -0.227</td> <td> 0.820</td> <td>-7.76e+15</td> <td> 6.15e+15</td>\n",
       "</tr>\n",
       "<tr>\n",
       "  <th>Neighborhood_Mitchel</th> <td> -8.05e+14</td> <td> 3.55e+15</td> <td>   -0.227</td> <td> 0.820</td> <td>-7.76e+15</td> <td> 6.15e+15</td>\n",
       "</tr>\n",
       "<tr>\n",
       "  <th>Neighborhood_NAmes</th>   <td> -8.05e+14</td> <td> 3.55e+15</td> <td>   -0.227</td> <td> 0.820</td> <td>-7.76e+15</td> <td> 6.15e+15</td>\n",
       "</tr>\n",
       "<tr>\n",
       "  <th>Neighborhood_NPkVill</th> <td> -8.05e+14</td> <td> 3.55e+15</td> <td>   -0.227</td> <td> 0.820</td> <td>-7.76e+15</td> <td> 6.15e+15</td>\n",
       "</tr>\n",
       "<tr>\n",
       "  <th>Neighborhood_NWAmes</th>  <td> -8.05e+14</td> <td> 3.55e+15</td> <td>   -0.227</td> <td> 0.820</td> <td>-7.76e+15</td> <td> 6.15e+15</td>\n",
       "</tr>\n",
       "<tr>\n",
       "  <th>Neighborhood_NoRidge</th> <td> -8.05e+14</td> <td> 3.55e+15</td> <td>   -0.227</td> <td> 0.820</td> <td>-7.76e+15</td> <td> 6.15e+15</td>\n",
       "</tr>\n",
       "<tr>\n",
       "  <th>Neighborhood_NridgHt</th> <td> -8.05e+14</td> <td> 3.55e+15</td> <td>   -0.227</td> <td> 0.820</td> <td>-7.76e+15</td> <td> 6.15e+15</td>\n",
       "</tr>\n",
       "<tr>\n",
       "  <th>Neighborhood_OldTown</th> <td> -8.05e+14</td> <td> 3.55e+15</td> <td>   -0.227</td> <td> 0.820</td> <td>-7.76e+15</td> <td> 6.15e+15</td>\n",
       "</tr>\n",
       "<tr>\n",
       "  <th>Neighborhood_SWISU</th>   <td> -8.05e+14</td> <td> 3.55e+15</td> <td>   -0.227</td> <td> 0.820</td> <td>-7.76e+15</td> <td> 6.15e+15</td>\n",
       "</tr>\n",
       "<tr>\n",
       "  <th>Neighborhood_Sawyer</th>  <td> -8.05e+14</td> <td> 3.55e+15</td> <td>   -0.227</td> <td> 0.820</td> <td>-7.76e+15</td> <td> 6.15e+15</td>\n",
       "</tr>\n",
       "<tr>\n",
       "  <th>Neighborhood_SawyerW</th> <td> -8.05e+14</td> <td> 3.55e+15</td> <td>   -0.227</td> <td> 0.820</td> <td>-7.76e+15</td> <td> 6.15e+15</td>\n",
       "</tr>\n",
       "<tr>\n",
       "  <th>Neighborhood_Somerst</th> <td> -8.05e+14</td> <td> 3.55e+15</td> <td>   -0.227</td> <td> 0.820</td> <td>-7.76e+15</td> <td> 6.15e+15</td>\n",
       "</tr>\n",
       "<tr>\n",
       "  <th>Neighborhood_StoneBr</th> <td> -8.05e+14</td> <td> 3.55e+15</td> <td>   -0.227</td> <td> 0.820</td> <td>-7.76e+15</td> <td> 6.15e+15</td>\n",
       "</tr>\n",
       "<tr>\n",
       "  <th>Neighborhood_Timber</th>  <td> -8.05e+14</td> <td> 3.55e+15</td> <td>   -0.227</td> <td> 0.820</td> <td>-7.76e+15</td> <td> 6.15e+15</td>\n",
       "</tr>\n",
       "<tr>\n",
       "  <th>Neighborhood_Veenker</th> <td> -8.05e+14</td> <td> 3.55e+15</td> <td>   -0.227</td> <td> 0.820</td> <td>-7.76e+15</td> <td> 6.15e+15</td>\n",
       "</tr>\n",
       "<tr>\n",
       "  <th>House Style_1.5Fin</th>   <td>-2.034e+15</td> <td> 8.96e+15</td> <td>   -0.227</td> <td> 0.820</td> <td>-1.96e+16</td> <td> 1.55e+16</td>\n",
       "</tr>\n",
       "<tr>\n",
       "  <th>House Style_1.5Unf</th>   <td>-2.034e+15</td> <td> 8.96e+15</td> <td>   -0.227</td> <td> 0.820</td> <td>-1.96e+16</td> <td> 1.55e+16</td>\n",
       "</tr>\n",
       "<tr>\n",
       "  <th>House Style_1Story</th>   <td>-2.034e+15</td> <td> 8.96e+15</td> <td>   -0.227</td> <td> 0.820</td> <td>-1.96e+16</td> <td> 1.55e+16</td>\n",
       "</tr>\n",
       "<tr>\n",
       "  <th>House Style_2.5Fin</th>   <td>-2.034e+15</td> <td> 8.96e+15</td> <td>   -0.227</td> <td> 0.820</td> <td>-1.96e+16</td> <td> 1.55e+16</td>\n",
       "</tr>\n",
       "<tr>\n",
       "  <th>House Style_2.5Unf</th>   <td>-2.034e+15</td> <td> 8.96e+15</td> <td>   -0.227</td> <td> 0.820</td> <td>-1.96e+16</td> <td> 1.55e+16</td>\n",
       "</tr>\n",
       "<tr>\n",
       "  <th>House Style_2Story</th>   <td>-2.034e+15</td> <td> 8.96e+15</td> <td>   -0.227</td> <td> 0.820</td> <td>-1.96e+16</td> <td> 1.55e+16</td>\n",
       "</tr>\n",
       "<tr>\n",
       "  <th>House Style_SFoyer</th>   <td>-2.034e+15</td> <td> 8.96e+15</td> <td>   -0.227</td> <td> 0.820</td> <td>-1.96e+16</td> <td> 1.55e+16</td>\n",
       "</tr>\n",
       "<tr>\n",
       "  <th>House Style_SLvl</th>     <td>-2.034e+15</td> <td> 8.96e+15</td> <td>   -0.227</td> <td> 0.820</td> <td>-1.96e+16</td> <td> 1.55e+16</td>\n",
       "</tr>\n",
       "<tr>\n",
       "  <th>Bsmt Qual_Ex</th>         <td> 7.526e+04</td> <td> 2.39e+04</td> <td>    3.148</td> <td> 0.002</td> <td> 2.84e+04</td> <td> 1.22e+05</td>\n",
       "</tr>\n",
       "<tr>\n",
       "  <th>Bsmt Qual_Fa</th>         <td> 4969.9350</td> <td>  2.4e+04</td> <td>    0.207</td> <td> 0.836</td> <td> -4.2e+04</td> <td>  5.2e+04</td>\n",
       "</tr>\n",
       "<tr>\n",
       "  <th>Bsmt Qual_Gd</th>         <td> 2.615e+04</td> <td> 2.35e+04</td> <td>    1.111</td> <td> 0.267</td> <td>   -2e+04</td> <td> 7.23e+04</td>\n",
       "</tr>\n",
       "<tr>\n",
       "  <th>Bsmt Qual_Po</th>         <td> 7142.1677</td> <td> 4.59e+04</td> <td>    0.156</td> <td> 0.876</td> <td>-8.28e+04</td> <td> 9.71e+04</td>\n",
       "</tr>\n",
       "<tr>\n",
       "  <th>Bsmt Qual_TA</th>         <td> 1.601e+04</td> <td> 2.35e+04</td> <td>    0.683</td> <td> 0.495</td> <td>   -3e+04</td> <td>  6.2e+04</td>\n",
       "</tr>\n",
       "<tr>\n",
       "  <th>Bsmt Exposure_Av</th>     <td> 1.812e+04</td> <td> 2.28e+04</td> <td>    0.796</td> <td> 0.426</td> <td>-2.65e+04</td> <td> 6.28e+04</td>\n",
       "</tr>\n",
       "<tr>\n",
       "  <th>Bsmt Exposure_Gd</th>     <td>   5.2e+04</td> <td> 2.29e+04</td> <td>    2.271</td> <td> 0.023</td> <td> 7087.733</td> <td> 9.69e+04</td>\n",
       "</tr>\n",
       "<tr>\n",
       "  <th>Bsmt Exposure_Mn</th>     <td> 4306.1248</td> <td> 2.29e+04</td> <td>    0.188</td> <td> 0.851</td> <td>-4.05e+04</td> <td> 4.91e+04</td>\n",
       "</tr>\n",
       "<tr>\n",
       "  <th>Bsmt Exposure_No</th>     <td> 2842.1988</td> <td> 2.27e+04</td> <td>    0.125</td> <td> 0.900</td> <td>-4.16e+04</td> <td> 4.73e+04</td>\n",
       "</tr>\n",
       "<tr>\n",
       "  <th>Heating_Floor</th>        <td> 9.756e+15</td> <td>  4.3e+16</td> <td>    0.227</td> <td> 0.820</td> <td>-7.45e+16</td> <td> 9.41e+16</td>\n",
       "</tr>\n",
       "<tr>\n",
       "  <th>Heating_GasA</th>         <td> 9.756e+15</td> <td>  4.3e+16</td> <td>    0.227</td> <td> 0.820</td> <td>-7.45e+16</td> <td> 9.41e+16</td>\n",
       "</tr>\n",
       "<tr>\n",
       "  <th>Heating_GasW</th>         <td> 9.756e+15</td> <td>  4.3e+16</td> <td>    0.227</td> <td> 0.820</td> <td>-7.45e+16</td> <td> 9.41e+16</td>\n",
       "</tr>\n",
       "<tr>\n",
       "  <th>Heating_Grav</th>         <td> 9.756e+15</td> <td>  4.3e+16</td> <td>    0.227</td> <td> 0.820</td> <td>-7.45e+16</td> <td> 9.41e+16</td>\n",
       "</tr>\n",
       "<tr>\n",
       "  <th>Heating_OthW</th>         <td> 9.756e+15</td> <td>  4.3e+16</td> <td>    0.227</td> <td> 0.820</td> <td>-7.45e+16</td> <td> 9.41e+16</td>\n",
       "</tr>\n",
       "<tr>\n",
       "  <th>Heating_Wall</th>         <td> 9.756e+15</td> <td>  4.3e+16</td> <td>    0.227</td> <td> 0.820</td> <td>-7.45e+16</td> <td> 9.41e+16</td>\n",
       "</tr>\n",
       "<tr>\n",
       "  <th>Kitchen Qual_Ex</th>      <td>-3.698e+15</td> <td> 1.63e+16</td> <td>   -0.227</td> <td> 0.820</td> <td>-3.57e+16</td> <td> 2.83e+16</td>\n",
       "</tr>\n",
       "<tr>\n",
       "  <th>Kitchen Qual_Fa</th>      <td>-3.698e+15</td> <td> 1.63e+16</td> <td>   -0.227</td> <td> 0.820</td> <td>-3.57e+16</td> <td> 2.83e+16</td>\n",
       "</tr>\n",
       "<tr>\n",
       "  <th>Kitchen Qual_Gd</th>      <td>-3.698e+15</td> <td> 1.63e+16</td> <td>   -0.227</td> <td> 0.820</td> <td>-3.57e+16</td> <td> 2.83e+16</td>\n",
       "</tr>\n",
       "<tr>\n",
       "  <th>Kitchen Qual_Po</th>      <td>-3.698e+15</td> <td> 1.63e+16</td> <td>   -0.227</td> <td> 0.820</td> <td>-3.57e+16</td> <td> 2.83e+16</td>\n",
       "</tr>\n",
       "<tr>\n",
       "  <th>Kitchen Qual_TA</th>      <td>-3.698e+15</td> <td> 1.63e+16</td> <td>   -0.227</td> <td> 0.820</td> <td>-3.57e+16</td> <td> 2.83e+16</td>\n",
       "</tr>\n",
       "<tr>\n",
       "  <th>Fireplace Qu_Ex</th>      <td> 6.349e+04</td> <td> 7404.882</td> <td>    8.575</td> <td> 0.000</td> <td>  4.9e+04</td> <td>  7.8e+04</td>\n",
       "</tr>\n",
       "<tr>\n",
       "  <th>Fireplace Qu_Fa</th>      <td> 8466.9948</td> <td> 5906.759</td> <td>    1.433</td> <td> 0.152</td> <td>-3117.264</td> <td> 2.01e+04</td>\n",
       "</tr>\n",
       "<tr>\n",
       "  <th>Fireplace Qu_Gd</th>      <td> 2.739e+04</td> <td> 2500.276</td> <td>   10.956</td> <td> 0.000</td> <td> 2.25e+04</td> <td> 3.23e+04</td>\n",
       "</tr>\n",
       "<tr>\n",
       "  <th>Fireplace Qu_Po</th>      <td> 8497.2674</td> <td> 6902.436</td> <td>    1.231</td> <td> 0.218</td> <td>-5039.699</td> <td>  2.2e+04</td>\n",
       "</tr>\n",
       "<tr>\n",
       "  <th>Fireplace Qu_TA</th>      <td> 2.372e+04</td> <td> 2656.567</td> <td>    8.929</td> <td> 0.000</td> <td> 1.85e+04</td> <td> 2.89e+04</td>\n",
       "</tr>\n",
       "<tr>\n",
       "  <th>Paved Drive_N</th>        <td> 1.603e+16</td> <td> 7.06e+16</td> <td>    0.227</td> <td> 0.820</td> <td>-1.23e+17</td> <td> 1.55e+17</td>\n",
       "</tr>\n",
       "<tr>\n",
       "  <th>Paved Drive_P</th>        <td> 1.603e+16</td> <td> 7.06e+16</td> <td>    0.227</td> <td> 0.820</td> <td>-1.23e+17</td> <td> 1.55e+17</td>\n",
       "</tr>\n",
       "<tr>\n",
       "  <th>Paved Drive_Y</th>        <td> 1.603e+16</td> <td> 7.06e+16</td> <td>    0.227</td> <td> 0.820</td> <td>-1.23e+17</td> <td> 1.55e+17</td>\n",
       "</tr>\n",
       "</table>\n",
       "<table class=\"simpletable\">\n",
       "<tr>\n",
       "  <th>Omnibus:</th>       <td>694.594</td> <th>  Durbin-Watson:     </th> <td>   1.997</td>\n",
       "</tr>\n",
       "<tr>\n",
       "  <th>Prob(Omnibus):</th> <td> 0.000</td>  <th>  Jarque-Bera (JB):  </th> <td>6543.585</td>\n",
       "</tr>\n",
       "<tr>\n",
       "  <th>Skew:</th>          <td> 1.357</td>  <th>  Prob(JB):          </th> <td>    0.00</td>\n",
       "</tr>\n",
       "<tr>\n",
       "  <th>Kurtosis:</th>      <td>11.433</td>  <th>  Cond. No.          </th> <td>9.57e+15</td>\n",
       "</tr>\n",
       "</table><br/><br/>Warnings:<br/>[1] Standard Errors assume that the covariance matrix of the errors is correctly specified.<br/>[2] The smallest eigenvalue is 1.02e-28. This might indicate that there are<br/>strong multicollinearity problems or that the design matrix is singular."
      ],
      "text/plain": [
       "<class 'statsmodels.iolib.summary.Summary'>\n",
       "\"\"\"\n",
       "                            OLS Regression Results                            \n",
       "==============================================================================\n",
       "Dep. Variable:              SalePrice   R-squared:                       0.782\n",
       "Model:                            OLS   Adj. R-squared:                  0.776\n",
       "Method:                 Least Squares   F-statistic:                     118.1\n",
       "Date:                Sun, 23 Feb 2020   Prob (F-statistic):               0.00\n",
       "Time:                        18:05:31   Log-Likelihood:                -23961.\n",
       "No. Observations:                2001   AIC:                         4.804e+04\n",
       "Df Residuals:                    1941   BIC:                         4.838e+04\n",
       "Df Model:                          59                                         \n",
       "Covariance Type:            nonrobust                                         \n",
       "========================================================================================\n",
       "                           coef    std err          t      P>|t|      [0.025      0.975]\n",
       "----------------------------------------------------------------------------------------\n",
       "const                -1.925e+16   8.48e+16     -0.227      0.820   -1.86e+17    1.47e+17\n",
       "Neighborhood_Blmngtn  -8.05e+14   3.55e+15     -0.227      0.820   -7.76e+15    6.15e+15\n",
       "Neighborhood_Blueste  -8.05e+14   3.55e+15     -0.227      0.820   -7.76e+15    6.15e+15\n",
       "Neighborhood_BrDale   -8.05e+14   3.55e+15     -0.227      0.820   -7.76e+15    6.15e+15\n",
       "Neighborhood_BrkSide  -8.05e+14   3.55e+15     -0.227      0.820   -7.76e+15    6.15e+15\n",
       "Neighborhood_ClearCr  -8.05e+14   3.55e+15     -0.227      0.820   -7.76e+15    6.15e+15\n",
       "Neighborhood_CollgCr  -8.05e+14   3.55e+15     -0.227      0.820   -7.76e+15    6.15e+15\n",
       "Neighborhood_Crawfor  -8.05e+14   3.55e+15     -0.227      0.820   -7.76e+15    6.15e+15\n",
       "Neighborhood_Edwards  -8.05e+14   3.55e+15     -0.227      0.820   -7.76e+15    6.15e+15\n",
       "Neighborhood_Gilbert  -8.05e+14   3.55e+15     -0.227      0.820   -7.76e+15    6.15e+15\n",
       "Neighborhood_Greens   -8.05e+14   3.55e+15     -0.227      0.820   -7.76e+15    6.15e+15\n",
       "Neighborhood_GrnHill  -8.05e+14   3.55e+15     -0.227      0.820   -7.76e+15    6.15e+15\n",
       "Neighborhood_IDOTRR   -8.05e+14   3.55e+15     -0.227      0.820   -7.76e+15    6.15e+15\n",
       "Neighborhood_Landmrk  -8.05e+14   3.55e+15     -0.227      0.820   -7.76e+15    6.15e+15\n",
       "Neighborhood_MeadowV  -8.05e+14   3.55e+15     -0.227      0.820   -7.76e+15    6.15e+15\n",
       "Neighborhood_Mitchel  -8.05e+14   3.55e+15     -0.227      0.820   -7.76e+15    6.15e+15\n",
       "Neighborhood_NAmes    -8.05e+14   3.55e+15     -0.227      0.820   -7.76e+15    6.15e+15\n",
       "Neighborhood_NPkVill  -8.05e+14   3.55e+15     -0.227      0.820   -7.76e+15    6.15e+15\n",
       "Neighborhood_NWAmes   -8.05e+14   3.55e+15     -0.227      0.820   -7.76e+15    6.15e+15\n",
       "Neighborhood_NoRidge  -8.05e+14   3.55e+15     -0.227      0.820   -7.76e+15    6.15e+15\n",
       "Neighborhood_NridgHt  -8.05e+14   3.55e+15     -0.227      0.820   -7.76e+15    6.15e+15\n",
       "Neighborhood_OldTown  -8.05e+14   3.55e+15     -0.227      0.820   -7.76e+15    6.15e+15\n",
       "Neighborhood_SWISU    -8.05e+14   3.55e+15     -0.227      0.820   -7.76e+15    6.15e+15\n",
       "Neighborhood_Sawyer   -8.05e+14   3.55e+15     -0.227      0.820   -7.76e+15    6.15e+15\n",
       "Neighborhood_SawyerW  -8.05e+14   3.55e+15     -0.227      0.820   -7.76e+15    6.15e+15\n",
       "Neighborhood_Somerst  -8.05e+14   3.55e+15     -0.227      0.820   -7.76e+15    6.15e+15\n",
       "Neighborhood_StoneBr  -8.05e+14   3.55e+15     -0.227      0.820   -7.76e+15    6.15e+15\n",
       "Neighborhood_Timber   -8.05e+14   3.55e+15     -0.227      0.820   -7.76e+15    6.15e+15\n",
       "Neighborhood_Veenker  -8.05e+14   3.55e+15     -0.227      0.820   -7.76e+15    6.15e+15\n",
       "House Style_1.5Fin   -2.034e+15   8.96e+15     -0.227      0.820   -1.96e+16    1.55e+16\n",
       "House Style_1.5Unf   -2.034e+15   8.96e+15     -0.227      0.820   -1.96e+16    1.55e+16\n",
       "House Style_1Story   -2.034e+15   8.96e+15     -0.227      0.820   -1.96e+16    1.55e+16\n",
       "House Style_2.5Fin   -2.034e+15   8.96e+15     -0.227      0.820   -1.96e+16    1.55e+16\n",
       "House Style_2.5Unf   -2.034e+15   8.96e+15     -0.227      0.820   -1.96e+16    1.55e+16\n",
       "House Style_2Story   -2.034e+15   8.96e+15     -0.227      0.820   -1.96e+16    1.55e+16\n",
       "House Style_SFoyer   -2.034e+15   8.96e+15     -0.227      0.820   -1.96e+16    1.55e+16\n",
       "House Style_SLvl     -2.034e+15   8.96e+15     -0.227      0.820   -1.96e+16    1.55e+16\n",
       "Bsmt Qual_Ex          7.526e+04   2.39e+04      3.148      0.002    2.84e+04    1.22e+05\n",
       "Bsmt Qual_Fa          4969.9350    2.4e+04      0.207      0.836    -4.2e+04     5.2e+04\n",
       "Bsmt Qual_Gd          2.615e+04   2.35e+04      1.111      0.267      -2e+04    7.23e+04\n",
       "Bsmt Qual_Po          7142.1677   4.59e+04      0.156      0.876   -8.28e+04    9.71e+04\n",
       "Bsmt Qual_TA          1.601e+04   2.35e+04      0.683      0.495      -3e+04     6.2e+04\n",
       "Bsmt Exposure_Av      1.812e+04   2.28e+04      0.796      0.426   -2.65e+04    6.28e+04\n",
       "Bsmt Exposure_Gd        5.2e+04   2.29e+04      2.271      0.023    7087.733    9.69e+04\n",
       "Bsmt Exposure_Mn      4306.1248   2.29e+04      0.188      0.851   -4.05e+04    4.91e+04\n",
       "Bsmt Exposure_No      2842.1988   2.27e+04      0.125      0.900   -4.16e+04    4.73e+04\n",
       "Heating_Floor         9.756e+15    4.3e+16      0.227      0.820   -7.45e+16    9.41e+16\n",
       "Heating_GasA          9.756e+15    4.3e+16      0.227      0.820   -7.45e+16    9.41e+16\n",
       "Heating_GasW          9.756e+15    4.3e+16      0.227      0.820   -7.45e+16    9.41e+16\n",
       "Heating_Grav          9.756e+15    4.3e+16      0.227      0.820   -7.45e+16    9.41e+16\n",
       "Heating_OthW          9.756e+15    4.3e+16      0.227      0.820   -7.45e+16    9.41e+16\n",
       "Heating_Wall          9.756e+15    4.3e+16      0.227      0.820   -7.45e+16    9.41e+16\n",
       "Kitchen Qual_Ex      -3.698e+15   1.63e+16     -0.227      0.820   -3.57e+16    2.83e+16\n",
       "Kitchen Qual_Fa      -3.698e+15   1.63e+16     -0.227      0.820   -3.57e+16    2.83e+16\n",
       "Kitchen Qual_Gd      -3.698e+15   1.63e+16     -0.227      0.820   -3.57e+16    2.83e+16\n",
       "Kitchen Qual_Po      -3.698e+15   1.63e+16     -0.227      0.820   -3.57e+16    2.83e+16\n",
       "Kitchen Qual_TA      -3.698e+15   1.63e+16     -0.227      0.820   -3.57e+16    2.83e+16\n",
       "Fireplace Qu_Ex       6.349e+04   7404.882      8.575      0.000     4.9e+04     7.8e+04\n",
       "Fireplace Qu_Fa       8466.9948   5906.759      1.433      0.152   -3117.264    2.01e+04\n",
       "Fireplace Qu_Gd       2.739e+04   2500.276     10.956      0.000    2.25e+04    3.23e+04\n",
       "Fireplace Qu_Po       8497.2674   6902.436      1.231      0.218   -5039.699     2.2e+04\n",
       "Fireplace Qu_TA       2.372e+04   2656.567      8.929      0.000    1.85e+04    2.89e+04\n",
       "Paved Drive_N         1.603e+16   7.06e+16      0.227      0.820   -1.23e+17    1.55e+17\n",
       "Paved Drive_P         1.603e+16   7.06e+16      0.227      0.820   -1.23e+17    1.55e+17\n",
       "Paved Drive_Y         1.603e+16   7.06e+16      0.227      0.820   -1.23e+17    1.55e+17\n",
       "==============================================================================\n",
       "Omnibus:                      694.594   Durbin-Watson:                   1.997\n",
       "Prob(Omnibus):                  0.000   Jarque-Bera (JB):             6543.585\n",
       "Skew:                           1.357   Prob(JB):                         0.00\n",
       "Kurtosis:                      11.433   Cond. No.                     9.57e+15\n",
       "==============================================================================\n",
       "\n",
       "Warnings:\n",
       "[1] Standard Errors assume that the covariance matrix of the errors is correctly specified.\n",
       "[2] The smallest eigenvalue is 1.02e-28. This might indicate that there are\n",
       "strong multicollinearity problems or that the design matrix is singular.\n",
       "\"\"\""
      ]
     },
     "execution_count": 26,
     "metadata": {},
     "output_type": "execute_result"
    }
   ],
   "source": [
    "model_cat.summary()"
   ]
  },
  {
   "cell_type": "markdown",
   "metadata": {},
   "source": [
    "# Dealing with numeric data"
   ]
  },
  {
   "cell_type": "markdown",
   "metadata": {},
   "source": [
    "Look at distribution of nulls"
   ]
  },
  {
   "cell_type": "code",
   "execution_count": 27,
   "metadata": {},
   "outputs": [
    {
     "data": {
      "text/plain": [
       "Id                   0\n",
       "MS SubClass          0\n",
       "Lot Frontage       332\n",
       "Lot Area             0\n",
       "Overall Qual         0\n",
       "Overall Cond         0\n",
       "Year Built           0\n",
       "Year Remod/Add       0\n",
       "Mas Vnr Area        16\n",
       "BsmtFin SF 1         1\n",
       "BsmtFin SF 2         1\n",
       "Bsmt Unf SF          1\n",
       "Total Bsmt SF        1\n",
       "1st Flr SF           0\n",
       "2nd Flr SF           0\n",
       "Low Qual Fin SF      0\n",
       "Gr Liv Area          0\n",
       "Bsmt Full Bath       1\n",
       "Bsmt Half Bath       1\n",
       "Full Bath            0\n",
       "Half Bath            0\n",
       "Bedroom AbvGr        0\n",
       "Kitchen AbvGr        0\n",
       "TotRms AbvGrd        0\n",
       "Fireplaces           0\n",
       "Garage Yr Blt      106\n",
       "Garage Cars          1\n",
       "Garage Area          1\n",
       "Wood Deck SF         0\n",
       "Open Porch SF        0\n",
       "Enclosed Porch       0\n",
       "3Ssn Porch           0\n",
       "Screen Porch         0\n",
       "Pool Area            0\n",
       "Misc Val             0\n",
       "Mo Sold              0\n",
       "Yr Sold              0\n",
       "SalePrice            0\n",
       "dtype: int64"
      ]
     },
     "execution_count": 27,
     "metadata": {},
     "output_type": "execute_result"
    }
   ],
   "source": [
    "np.sum(train_numeric.isnull())"
   ]
  },
  {
   "cell_type": "code",
   "execution_count": 28,
   "metadata": {},
   "outputs": [],
   "source": [
    "def preprocessing_pipeline(train):\n",
    "    ## Your code goes here\n",
    "    \n",
    "    #fill NAs with median\n",
    "    train = train.fillna(train.median())\n",
    "\n",
    "    #get rid of outliers\n",
    "    for X in train:\n",
    "        mu = np.mean(train[X])\n",
    "        std = np.std(train[X])\n",
    "        normalized_data = (train[X]-mu)/std\n",
    "        indexes = normalized_data < 3\n",
    "        processed_train = train.loc[indexes, :]\n",
    "    \n",
    "    return processed_train"
   ]
  },
  {
   "cell_type": "markdown",
   "metadata": {},
   "source": [
    "Preprocess data"
   ]
  },
  {
   "cell_type": "code",
   "execution_count": 29,
   "metadata": {},
   "outputs": [],
   "source": [
    "train_numeric = preprocessing_pipeline(train_numeric)"
   ]
  },
  {
   "cell_type": "code",
   "execution_count": 30,
   "metadata": {},
   "outputs": [
    {
     "data": {
      "text/plain": [
       "(1969, 38)"
      ]
     },
     "execution_count": 30,
     "metadata": {},
     "output_type": "execute_result"
    }
   ],
   "source": [
    "train_numeric.shape"
   ]
  },
  {
   "cell_type": "markdown",
   "metadata": {},
   "source": [
    "Drop the \"Id\" column."
   ]
  },
  {
   "cell_type": "code",
   "execution_count": 31,
   "metadata": {},
   "outputs": [],
   "source": [
    "train_numeric = train_numeric.drop(columns=['Id'])"
   ]
  },
  {
   "cell_type": "markdown",
   "metadata": {},
   "source": [
    "# Calculate VIFs for numeric data\n"
   ]
  },
  {
   "cell_type": "code",
   "execution_count": 32,
   "metadata": {},
   "outputs": [],
   "source": [
    "def calculate_vif(r_squared):\n",
    "    ## Your code goes here\n",
    "    vif = 1/(1-r_squared)\n",
    "    return vif"
   ]
  },
  {
   "cell_type": "code",
   "execution_count": 33,
   "metadata": {},
   "outputs": [],
   "source": [
    "import statsmodels.api as sm\n",
    "\n",
    "def generate_vif_dataframe(processed_train):\n",
    "    ## Your code goes here\n",
    "    data = []\n",
    "    for X in processed_train:\n",
    "        X_list = []\n",
    "        X_list.append(X)\n",
    "        i = processed_train.columns.get_loc(X)\n",
    "        reg_list = [] #contains all other variables for regression against X\n",
    "        for j in range(len(processed_train.columns)):\n",
    "            if j != i :\n",
    "                reg_list.append(processed_train.columns[j])\n",
    "        model = sm.OLS(processed_train[X], sm.add_constant(processed_train[reg_list])).fit()\n",
    "        rsq = model.rsquared\n",
    "        vif = calculate_vif(rsq)\n",
    "        X_list.append(vif)\n",
    "        data.append(X_list)\n",
    "        \n",
    "    vif_dataframe = pd.DataFrame(data, columns = ['Variable name','VIF'])\n",
    "                                \n",
    "    return vif_dataframe"
   ]
  },
  {
   "cell_type": "markdown",
   "metadata": {},
   "source": [
    "Select all features"
   ]
  },
  {
   "cell_type": "code",
   "execution_count": 34,
   "metadata": {},
   "outputs": [],
   "source": [
    "numeric_features = train_numeric.loc[:, train_numeric.columns != 'SalePrice']"
   ]
  },
  {
   "cell_type": "code",
   "execution_count": 35,
   "metadata": {},
   "outputs": [
    {
     "name": "stderr",
     "output_type": "stream",
     "text": [
      "/Users/gracegupta/anaconda3/lib/python3.6/site-packages/ipykernel_launcher.py:3: RuntimeWarning: divide by zero encountered in double_scalars\n",
      "  This is separate from the ipykernel package so we can avoid doing imports until\n"
     ]
    },
    {
     "data": {
      "text/html": [
       "<div>\n",
       "<style scoped>\n",
       "    .dataframe tbody tr th:only-of-type {\n",
       "        vertical-align: middle;\n",
       "    }\n",
       "\n",
       "    .dataframe tbody tr th {\n",
       "        vertical-align: top;\n",
       "    }\n",
       "\n",
       "    .dataframe thead th {\n",
       "        text-align: right;\n",
       "    }\n",
       "</style>\n",
       "<table border=\"1\" class=\"dataframe\">\n",
       "  <thead>\n",
       "    <tr style=\"text-align: right;\">\n",
       "      <th></th>\n",
       "      <th>Variable name</th>\n",
       "      <th>VIF</th>\n",
       "    </tr>\n",
       "  </thead>\n",
       "  <tbody>\n",
       "    <tr>\n",
       "      <th>14</th>\n",
       "      <td>Low Qual Fin SF</td>\n",
       "      <td>inf</td>\n",
       "    </tr>\n",
       "    <tr>\n",
       "      <th>15</th>\n",
       "      <td>Gr Liv Area</td>\n",
       "      <td>inf</td>\n",
       "    </tr>\n",
       "    <tr>\n",
       "      <th>12</th>\n",
       "      <td>1st Flr SF</td>\n",
       "      <td>inf</td>\n",
       "    </tr>\n",
       "    <tr>\n",
       "      <th>13</th>\n",
       "      <td>2nd Flr SF</td>\n",
       "      <td>inf</td>\n",
       "    </tr>\n",
       "    <tr>\n",
       "      <th>8</th>\n",
       "      <td>BsmtFin SF 1</td>\n",
       "      <td>1.440326e+04</td>\n",
       "    </tr>\n",
       "    <tr>\n",
       "      <th>10</th>\n",
       "      <td>Bsmt Unf SF</td>\n",
       "      <td>1.412280e+04</td>\n",
       "    </tr>\n",
       "    <tr>\n",
       "      <th>11</th>\n",
       "      <td>Total Bsmt SF</td>\n",
       "      <td>1.341112e+04</td>\n",
       "    </tr>\n",
       "    <tr>\n",
       "      <th>9</th>\n",
       "      <td>BsmtFin SF 2</td>\n",
       "      <td>2.005389e+03</td>\n",
       "    </tr>\n",
       "    <tr>\n",
       "      <th>25</th>\n",
       "      <td>Garage Cars</td>\n",
       "      <td>5.729113e+00</td>\n",
       "    </tr>\n",
       "    <tr>\n",
       "      <th>26</th>\n",
       "      <td>Garage Area</td>\n",
       "      <td>5.452137e+00</td>\n",
       "    </tr>\n",
       "    <tr>\n",
       "      <th>5</th>\n",
       "      <td>Year Built</td>\n",
       "      <td>4.930856e+00</td>\n",
       "    </tr>\n",
       "    <tr>\n",
       "      <th>22</th>\n",
       "      <td>TotRms AbvGrd</td>\n",
       "      <td>4.301722e+00</td>\n",
       "    </tr>\n",
       "    <tr>\n",
       "      <th>24</th>\n",
       "      <td>Garage Yr Blt</td>\n",
       "      <td>3.216463e+00</td>\n",
       "    </tr>\n",
       "    <tr>\n",
       "      <th>3</th>\n",
       "      <td>Overall Qual</td>\n",
       "      <td>2.988249e+00</td>\n",
       "    </tr>\n",
       "    <tr>\n",
       "      <th>18</th>\n",
       "      <td>Full Bath</td>\n",
       "      <td>2.758045e+00</td>\n",
       "    </tr>\n",
       "    <tr>\n",
       "      <th>6</th>\n",
       "      <td>Year Remod/Add</td>\n",
       "      <td>2.485948e+00</td>\n",
       "    </tr>\n",
       "    <tr>\n",
       "      <th>20</th>\n",
       "      <td>Bedroom AbvGr</td>\n",
       "      <td>2.463968e+00</td>\n",
       "    </tr>\n",
       "    <tr>\n",
       "      <th>19</th>\n",
       "      <td>Half Bath</td>\n",
       "      <td>2.185202e+00</td>\n",
       "    </tr>\n",
       "    <tr>\n",
       "      <th>16</th>\n",
       "      <td>Bsmt Full Bath</td>\n",
       "      <td>2.105499e+00</td>\n",
       "    </tr>\n",
       "    <tr>\n",
       "      <th>0</th>\n",
       "      <td>MS SubClass</td>\n",
       "      <td>1.647685e+00</td>\n",
       "    </tr>\n",
       "    <tr>\n",
       "      <th>1</th>\n",
       "      <td>Lot Frontage</td>\n",
       "      <td>1.640287e+00</td>\n",
       "    </tr>\n",
       "    <tr>\n",
       "      <th>21</th>\n",
       "      <td>Kitchen AbvGr</td>\n",
       "      <td>1.555297e+00</td>\n",
       "    </tr>\n",
       "    <tr>\n",
       "      <th>23</th>\n",
       "      <td>Fireplaces</td>\n",
       "      <td>1.532485e+00</td>\n",
       "    </tr>\n",
       "    <tr>\n",
       "      <th>4</th>\n",
       "      <td>Overall Cond</td>\n",
       "      <td>1.530969e+00</td>\n",
       "    </tr>\n",
       "    <tr>\n",
       "      <th>7</th>\n",
       "      <td>Mas Vnr Area</td>\n",
       "      <td>1.370820e+00</td>\n",
       "    </tr>\n",
       "    <tr>\n",
       "      <th>2</th>\n",
       "      <td>Lot Area</td>\n",
       "      <td>1.318319e+00</td>\n",
       "    </tr>\n",
       "    <tr>\n",
       "      <th>29</th>\n",
       "      <td>Enclosed Porch</td>\n",
       "      <td>1.265940e+00</td>\n",
       "    </tr>\n",
       "    <tr>\n",
       "      <th>27</th>\n",
       "      <td>Wood Deck SF</td>\n",
       "      <td>1.263772e+00</td>\n",
       "    </tr>\n",
       "    <tr>\n",
       "      <th>28</th>\n",
       "      <td>Open Porch SF</td>\n",
       "      <td>1.228868e+00</td>\n",
       "    </tr>\n",
       "    <tr>\n",
       "      <th>17</th>\n",
       "      <td>Bsmt Half Bath</td>\n",
       "      <td>1.150873e+00</td>\n",
       "    </tr>\n",
       "    <tr>\n",
       "      <th>32</th>\n",
       "      <td>Pool Area</td>\n",
       "      <td>1.105207e+00</td>\n",
       "    </tr>\n",
       "    <tr>\n",
       "      <th>31</th>\n",
       "      <td>Screen Porch</td>\n",
       "      <td>1.080896e+00</td>\n",
       "    </tr>\n",
       "    <tr>\n",
       "      <th>33</th>\n",
       "      <td>Misc Val</td>\n",
       "      <td>1.076887e+00</td>\n",
       "    </tr>\n",
       "    <tr>\n",
       "      <th>35</th>\n",
       "      <td>Yr Sold</td>\n",
       "      <td>1.051224e+00</td>\n",
       "    </tr>\n",
       "    <tr>\n",
       "      <th>34</th>\n",
       "      <td>Mo Sold</td>\n",
       "      <td>1.048225e+00</td>\n",
       "    </tr>\n",
       "    <tr>\n",
       "      <th>30</th>\n",
       "      <td>3Ssn Porch</td>\n",
       "      <td>1.018774e+00</td>\n",
       "    </tr>\n",
       "  </tbody>\n",
       "</table>\n",
       "</div>"
      ],
      "text/plain": [
       "      Variable name           VIF\n",
       "14  Low Qual Fin SF           inf\n",
       "15      Gr Liv Area           inf\n",
       "12       1st Flr SF           inf\n",
       "13       2nd Flr SF           inf\n",
       "8      BsmtFin SF 1  1.440326e+04\n",
       "10      Bsmt Unf SF  1.412280e+04\n",
       "11    Total Bsmt SF  1.341112e+04\n",
       "9      BsmtFin SF 2  2.005389e+03\n",
       "25      Garage Cars  5.729113e+00\n",
       "26      Garage Area  5.452137e+00\n",
       "5        Year Built  4.930856e+00\n",
       "22    TotRms AbvGrd  4.301722e+00\n",
       "24    Garage Yr Blt  3.216463e+00\n",
       "3      Overall Qual  2.988249e+00\n",
       "18        Full Bath  2.758045e+00\n",
       "6    Year Remod/Add  2.485948e+00\n",
       "20    Bedroom AbvGr  2.463968e+00\n",
       "19        Half Bath  2.185202e+00\n",
       "16   Bsmt Full Bath  2.105499e+00\n",
       "0       MS SubClass  1.647685e+00\n",
       "1      Lot Frontage  1.640287e+00\n",
       "21    Kitchen AbvGr  1.555297e+00\n",
       "23       Fireplaces  1.532485e+00\n",
       "4      Overall Cond  1.530969e+00\n",
       "7      Mas Vnr Area  1.370820e+00\n",
       "2          Lot Area  1.318319e+00\n",
       "29   Enclosed Porch  1.265940e+00\n",
       "27     Wood Deck SF  1.263772e+00\n",
       "28    Open Porch SF  1.228868e+00\n",
       "17   Bsmt Half Bath  1.150873e+00\n",
       "32        Pool Area  1.105207e+00\n",
       "31     Screen Porch  1.080896e+00\n",
       "33         Misc Val  1.076887e+00\n",
       "35          Yr Sold  1.051224e+00\n",
       "34          Mo Sold  1.048225e+00\n",
       "30       3Ssn Porch  1.018774e+00"
      ]
     },
     "execution_count": 35,
     "metadata": {},
     "output_type": "execute_result"
    }
   ],
   "source": [
    "vif_dataframe = generate_vif_dataframe(numeric_features)\n",
    "vif_dataframe.sort_values('VIF',ascending=False)"
   ]
  },
  {
   "cell_type": "markdown",
   "metadata": {},
   "source": [
    "# Building model based on VIFs"
   ]
  },
  {
   "cell_type": "code",
   "execution_count": 36,
   "metadata": {},
   "outputs": [
    {
     "data": {
      "text/html": [
       "<div>\n",
       "<style scoped>\n",
       "    .dataframe tbody tr th:only-of-type {\n",
       "        vertical-align: middle;\n",
       "    }\n",
       "\n",
       "    .dataframe tbody tr th {\n",
       "        vertical-align: top;\n",
       "    }\n",
       "\n",
       "    .dataframe thead th {\n",
       "        text-align: right;\n",
       "    }\n",
       "</style>\n",
       "<table border=\"1\" class=\"dataframe\">\n",
       "  <thead>\n",
       "    <tr style=\"text-align: right;\">\n",
       "      <th></th>\n",
       "      <th>Variable name</th>\n",
       "      <th>VIF</th>\n",
       "    </tr>\n",
       "  </thead>\n",
       "  <tbody>\n",
       "    <tr>\n",
       "      <th>1</th>\n",
       "      <td>Overall Qual</td>\n",
       "      <td>1.619907</td>\n",
       "    </tr>\n",
       "    <tr>\n",
       "      <th>5</th>\n",
       "      <td>Bsmt Unf SF</td>\n",
       "      <td>1.603250</td>\n",
       "    </tr>\n",
       "    <tr>\n",
       "      <th>6</th>\n",
       "      <td>Bsmt Full Bath</td>\n",
       "      <td>1.496130</td>\n",
       "    </tr>\n",
       "    <tr>\n",
       "      <th>9</th>\n",
       "      <td>Bedroom AbvGr</td>\n",
       "      <td>1.296856</td>\n",
       "    </tr>\n",
       "    <tr>\n",
       "      <th>11</th>\n",
       "      <td>Fireplaces</td>\n",
       "      <td>1.280649</td>\n",
       "    </tr>\n",
       "    <tr>\n",
       "      <th>3</th>\n",
       "      <td>Mas Vnr Area</td>\n",
       "      <td>1.251343</td>\n",
       "    </tr>\n",
       "    <tr>\n",
       "      <th>8</th>\n",
       "      <td>Half Bath</td>\n",
       "      <td>1.243503</td>\n",
       "    </tr>\n",
       "    <tr>\n",
       "      <th>0</th>\n",
       "      <td>Lot Frontage</td>\n",
       "      <td>1.196242</td>\n",
       "    </tr>\n",
       "    <tr>\n",
       "      <th>12</th>\n",
       "      <td>Wood Deck SF</td>\n",
       "      <td>1.168807</td>\n",
       "    </tr>\n",
       "    <tr>\n",
       "      <th>10</th>\n",
       "      <td>Kitchen AbvGr</td>\n",
       "      <td>1.155302</td>\n",
       "    </tr>\n",
       "    <tr>\n",
       "      <th>7</th>\n",
       "      <td>Bsmt Half Bath</td>\n",
       "      <td>1.097900</td>\n",
       "    </tr>\n",
       "    <tr>\n",
       "      <th>4</th>\n",
       "      <td>BsmtFin SF 2</td>\n",
       "      <td>1.089839</td>\n",
       "    </tr>\n",
       "    <tr>\n",
       "      <th>2</th>\n",
       "      <td>Overall Cond</td>\n",
       "      <td>1.069991</td>\n",
       "    </tr>\n",
       "    <tr>\n",
       "      <th>14</th>\n",
       "      <td>Pool Area</td>\n",
       "      <td>1.068656</td>\n",
       "    </tr>\n",
       "    <tr>\n",
       "      <th>13</th>\n",
       "      <td>Enclosed Porch</td>\n",
       "      <td>1.063535</td>\n",
       "    </tr>\n",
       "    <tr>\n",
       "      <th>15</th>\n",
       "      <td>Yr Sold</td>\n",
       "      <td>1.011274</td>\n",
       "    </tr>\n",
       "  </tbody>\n",
       "</table>\n",
       "</div>"
      ],
      "text/plain": [
       "     Variable name       VIF\n",
       "1     Overall Qual  1.619907\n",
       "5      Bsmt Unf SF  1.603250\n",
       "6   Bsmt Full Bath  1.496130\n",
       "9    Bedroom AbvGr  1.296856\n",
       "11      Fireplaces  1.280649\n",
       "3     Mas Vnr Area  1.251343\n",
       "8        Half Bath  1.243503\n",
       "0     Lot Frontage  1.196242\n",
       "12    Wood Deck SF  1.168807\n",
       "10   Kitchen AbvGr  1.155302\n",
       "7   Bsmt Half Bath  1.097900\n",
       "4     BsmtFin SF 2  1.089839\n",
       "2     Overall Cond  1.069991\n",
       "14       Pool Area  1.068656\n",
       "13  Enclosed Porch  1.063535\n",
       "15         Yr Sold  1.011274"
      ]
     },
     "execution_count": 36,
     "metadata": {},
     "output_type": "execute_result"
    }
   ],
   "source": [
    "columns_to_exclude = ['BsmtFin SF 1','Garage Cars','Year Built','Total Bsmt SF','TotRms AbvGrd','Garage Yr Blt','Full Bath','Low Qual Fin SF','Gr Liv Area','1st Flr SF',\n",
    "                     'Low Qual Fin SF','Gr Liv Area','1st Flr SF','2nd Flr SF','Year Remod/Add','Garage Area','MS SubClass','Mo Sold','Screen Porch','Open Porch SF','Lot Area',\n",
    "                     '3Ssn Porch','Misc Val']\n",
    "features_updated = numeric_features.drop(columns_to_exclude, axis=1)\n",
    "vifs = generate_vif_dataframe(features_updated)\n",
    "vifs.sort_values('VIF',ascending=False)"
   ]
  },
  {
   "cell_type": "code",
   "execution_count": 37,
   "metadata": {},
   "outputs": [
    {
     "data": {
      "text/plain": [
       "Index(['Lot Frontage', 'Overall Qual', 'Overall Cond', 'Mas Vnr Area',\n",
       "       'BsmtFin SF 2', 'Bsmt Unf SF', 'Bsmt Full Bath', 'Bsmt Half Bath',\n",
       "       'Half Bath', 'Bedroom AbvGr', 'Kitchen AbvGr', 'Fireplaces',\n",
       "       'Wood Deck SF', 'Enclosed Porch', 'Pool Area', 'Yr Sold'],\n",
       "      dtype='object')"
      ]
     },
     "execution_count": 37,
     "metadata": {},
     "output_type": "execute_result"
    }
   ],
   "source": [
    "features_updated.columns"
   ]
  },
  {
   "cell_type": "code",
   "execution_count": 38,
   "metadata": {},
   "outputs": [
    {
     "data": {
      "text/plain": [
       "(1969, 16)"
      ]
     },
     "execution_count": 38,
     "metadata": {},
     "output_type": "execute_result"
    }
   ],
   "source": [
    "features_updated.shape"
   ]
  },
  {
   "cell_type": "code",
   "execution_count": 39,
   "metadata": {},
   "outputs": [],
   "source": [
    "y = train_numeric[\"SalePrice\"]"
   ]
  },
  {
   "cell_type": "code",
   "execution_count": 40,
   "metadata": {},
   "outputs": [
    {
     "data": {
      "text/plain": [
       "(1969,)"
      ]
     },
     "execution_count": 40,
     "metadata": {},
     "output_type": "execute_result"
    }
   ],
   "source": [
    "y.shape"
   ]
  },
  {
   "cell_type": "code",
   "execution_count": 41,
   "metadata": {},
   "outputs": [],
   "source": [
    "#features_updated = features_updated.reindex(y_test.index)"
   ]
  },
  {
   "cell_type": "markdown",
   "metadata": {},
   "source": [
    "Fit model to chosen numeric features"
   ]
  },
  {
   "cell_type": "code",
   "execution_count": 42,
   "metadata": {},
   "outputs": [],
   "source": [
    "model_numeric = sm.OLS(y, sm.add_constant(features_updated)).fit()"
   ]
  },
  {
   "cell_type": "code",
   "execution_count": 43,
   "metadata": {
    "scrolled": true
   },
   "outputs": [
    {
     "data": {
      "text/html": [
       "<table class=\"simpletable\">\n",
       "<caption>OLS Regression Results</caption>\n",
       "<tr>\n",
       "  <th>Dep. Variable:</th>        <td>SalePrice</td>    <th>  R-squared:         </th> <td>   0.743</td> \n",
       "</tr>\n",
       "<tr>\n",
       "  <th>Model:</th>                   <td>OLS</td>       <th>  Adj. R-squared:    </th> <td>   0.741</td> \n",
       "</tr>\n",
       "<tr>\n",
       "  <th>Method:</th>             <td>Least Squares</td>  <th>  F-statistic:       </th> <td>   353.6</td> \n",
       "</tr>\n",
       "<tr>\n",
       "  <th>Date:</th>             <td>Sun, 23 Feb 2020</td> <th>  Prob (F-statistic):</th>  <td>  0.00</td>  \n",
       "</tr>\n",
       "<tr>\n",
       "  <th>Time:</th>                 <td>18:05:33</td>     <th>  Log-Likelihood:    </th> <td> -23405.</td> \n",
       "</tr>\n",
       "<tr>\n",
       "  <th>No. Observations:</th>      <td>  1969</td>      <th>  AIC:               </th> <td>4.684e+04</td>\n",
       "</tr>\n",
       "<tr>\n",
       "  <th>Df Residuals:</th>          <td>  1952</td>      <th>  BIC:               </th> <td>4.694e+04</td>\n",
       "</tr>\n",
       "<tr>\n",
       "  <th>Df Model:</th>              <td>    16</td>      <th>                     </th>     <td> </td>    \n",
       "</tr>\n",
       "<tr>\n",
       "  <th>Covariance Type:</th>      <td>nonrobust</td>    <th>                     </th>     <td> </td>    \n",
       "</tr>\n",
       "</table>\n",
       "<table class=\"simpletable\">\n",
       "<tr>\n",
       "         <td></td>           <th>coef</th>     <th>std err</th>      <th>t</th>      <th>P>|t|</th>  <th>[0.025</th>    <th>0.975]</th>  \n",
       "</tr>\n",
       "<tr>\n",
       "  <th>const</th>          <td> 2.639e+06</td> <td> 1.22e+06</td> <td>    2.159</td> <td> 0.031</td> <td> 2.42e+05</td> <td> 5.04e+06</td>\n",
       "</tr>\n",
       "<tr>\n",
       "  <th>Lot Frontage</th>   <td>  395.0697</td> <td>   42.007</td> <td>    9.405</td> <td> 0.000</td> <td>  312.687</td> <td>  477.453</td>\n",
       "</tr>\n",
       "<tr>\n",
       "  <th>Overall Qual</th>   <td> 3.054e+04</td> <td>  737.079</td> <td>   41.432</td> <td> 0.000</td> <td> 2.91e+04</td> <td>  3.2e+04</td>\n",
       "</tr>\n",
       "<tr>\n",
       "  <th>Overall Cond</th>   <td>  264.7959</td> <td>  753.387</td> <td>    0.351</td> <td> 0.725</td> <td>-1212.731</td> <td> 1742.323</td>\n",
       "</tr>\n",
       "<tr>\n",
       "  <th>Mas Vnr Area</th>   <td>   40.8584</td> <td>    5.403</td> <td>    7.562</td> <td> 0.000</td> <td>   30.261</td> <td>   51.455</td>\n",
       "</tr>\n",
       "<tr>\n",
       "  <th>BsmtFin SF 2</th>   <td>   -0.8401</td> <td>    4.971</td> <td>   -0.169</td> <td> 0.866</td> <td>  -10.589</td> <td>    8.909</td>\n",
       "</tr>\n",
       "<tr>\n",
       "  <th>Bsmt Unf SF</th>    <td>    9.8089</td> <td>    2.272</td> <td>    4.318</td> <td> 0.000</td> <td>    5.353</td> <td>   14.264</td>\n",
       "</tr>\n",
       "<tr>\n",
       "  <th>Bsmt Full Bath</th> <td>  2.01e+04</td> <td> 1848.297</td> <td>   10.877</td> <td> 0.000</td> <td> 1.65e+04</td> <td> 2.37e+04</td>\n",
       "</tr>\n",
       "<tr>\n",
       "  <th>Bsmt Half Bath</th> <td> 3444.9481</td> <td> 3506.457</td> <td>    0.982</td> <td> 0.326</td> <td>-3431.845</td> <td> 1.03e+04</td>\n",
       "</tr>\n",
       "<tr>\n",
       "  <th>Half Bath</th>      <td> 8147.2356</td> <td> 1762.073</td> <td>    4.624</td> <td> 0.000</td> <td> 4691.494</td> <td> 1.16e+04</td>\n",
       "</tr>\n",
       "<tr>\n",
       "  <th>Bedroom AbvGr</th>  <td> 7187.7730</td> <td> 1079.133</td> <td>    6.661</td> <td> 0.000</td> <td> 5071.399</td> <td> 9304.147</td>\n",
       "</tr>\n",
       "<tr>\n",
       "  <th>Kitchen AbvGr</th>  <td>-1.047e+04</td> <td> 4181.863</td> <td>   -2.503</td> <td> 0.012</td> <td>-1.87e+04</td> <td>-2264.515</td>\n",
       "</tr>\n",
       "<tr>\n",
       "  <th>Fireplaces</th>     <td> 1.391e+04</td> <td> 1410.171</td> <td>    9.865</td> <td> 0.000</td> <td> 1.11e+04</td> <td> 1.67e+04</td>\n",
       "</tr>\n",
       "<tr>\n",
       "  <th>Wood Deck SF</th>   <td>   51.5407</td> <td>    6.711</td> <td>    7.680</td> <td> 0.000</td> <td>   38.380</td> <td>   64.701</td>\n",
       "</tr>\n",
       "<tr>\n",
       "  <th>Enclosed Porch</th> <td>  -16.6806</td> <td>   13.064</td> <td>   -1.277</td> <td> 0.202</td> <td>  -42.301</td> <td>    8.940</td>\n",
       "</tr>\n",
       "<tr>\n",
       "  <th>Pool Area</th>      <td>  -56.0240</td> <td>   20.458</td> <td>   -2.738</td> <td> 0.006</td> <td>  -96.146</td> <td>  -15.902</td>\n",
       "</tr>\n",
       "<tr>\n",
       "  <th>Yr Sold</th>        <td>-1354.5473</td> <td>  608.795</td> <td>   -2.225</td> <td> 0.026</td> <td>-2548.503</td> <td> -160.591</td>\n",
       "</tr>\n",
       "</table>\n",
       "<table class=\"simpletable\">\n",
       "<tr>\n",
       "  <th>Omnibus:</th>       <td>263.043</td> <th>  Durbin-Watson:     </th> <td>   2.038</td>\n",
       "</tr>\n",
       "<tr>\n",
       "  <th>Prob(Omnibus):</th> <td> 0.000</td>  <th>  Jarque-Bera (JB):  </th> <td>3172.894</td>\n",
       "</tr>\n",
       "<tr>\n",
       "  <th>Skew:</th>          <td>-0.042</td>  <th>  Prob(JB):          </th> <td>    0.00</td>\n",
       "</tr>\n",
       "<tr>\n",
       "  <th>Kurtosis:</th>      <td> 9.218</td>  <th>  Cond. No.          </th> <td>3.22e+06</td>\n",
       "</tr>\n",
       "</table><br/><br/>Warnings:<br/>[1] Standard Errors assume that the covariance matrix of the errors is correctly specified.<br/>[2] The condition number is large, 3.22e+06. This might indicate that there are<br/>strong multicollinearity or other numerical problems."
      ],
      "text/plain": [
       "<class 'statsmodels.iolib.summary.Summary'>\n",
       "\"\"\"\n",
       "                            OLS Regression Results                            \n",
       "==============================================================================\n",
       "Dep. Variable:              SalePrice   R-squared:                       0.743\n",
       "Model:                            OLS   Adj. R-squared:                  0.741\n",
       "Method:                 Least Squares   F-statistic:                     353.6\n",
       "Date:                Sun, 23 Feb 2020   Prob (F-statistic):               0.00\n",
       "Time:                        18:05:33   Log-Likelihood:                -23405.\n",
       "No. Observations:                1969   AIC:                         4.684e+04\n",
       "Df Residuals:                    1952   BIC:                         4.694e+04\n",
       "Df Model:                          16                                         \n",
       "Covariance Type:            nonrobust                                         \n",
       "==================================================================================\n",
       "                     coef    std err          t      P>|t|      [0.025      0.975]\n",
       "----------------------------------------------------------------------------------\n",
       "const           2.639e+06   1.22e+06      2.159      0.031    2.42e+05    5.04e+06\n",
       "Lot Frontage     395.0697     42.007      9.405      0.000     312.687     477.453\n",
       "Overall Qual    3.054e+04    737.079     41.432      0.000    2.91e+04     3.2e+04\n",
       "Overall Cond     264.7959    753.387      0.351      0.725   -1212.731    1742.323\n",
       "Mas Vnr Area      40.8584      5.403      7.562      0.000      30.261      51.455\n",
       "BsmtFin SF 2      -0.8401      4.971     -0.169      0.866     -10.589       8.909\n",
       "Bsmt Unf SF        9.8089      2.272      4.318      0.000       5.353      14.264\n",
       "Bsmt Full Bath   2.01e+04   1848.297     10.877      0.000    1.65e+04    2.37e+04\n",
       "Bsmt Half Bath  3444.9481   3506.457      0.982      0.326   -3431.845    1.03e+04\n",
       "Half Bath       8147.2356   1762.073      4.624      0.000    4691.494    1.16e+04\n",
       "Bedroom AbvGr   7187.7730   1079.133      6.661      0.000    5071.399    9304.147\n",
       "Kitchen AbvGr  -1.047e+04   4181.863     -2.503      0.012   -1.87e+04   -2264.515\n",
       "Fireplaces      1.391e+04   1410.171      9.865      0.000    1.11e+04    1.67e+04\n",
       "Wood Deck SF      51.5407      6.711      7.680      0.000      38.380      64.701\n",
       "Enclosed Porch   -16.6806     13.064     -1.277      0.202     -42.301       8.940\n",
       "Pool Area        -56.0240     20.458     -2.738      0.006     -96.146     -15.902\n",
       "Yr Sold        -1354.5473    608.795     -2.225      0.026   -2548.503    -160.591\n",
       "==============================================================================\n",
       "Omnibus:                      263.043   Durbin-Watson:                   2.038\n",
       "Prob(Omnibus):                  0.000   Jarque-Bera (JB):             3172.894\n",
       "Skew:                          -0.042   Prob(JB):                         0.00\n",
       "Kurtosis:                       9.218   Cond. No.                     3.22e+06\n",
       "==============================================================================\n",
       "\n",
       "Warnings:\n",
       "[1] Standard Errors assume that the covariance matrix of the errors is correctly specified.\n",
       "[2] The condition number is large, 3.22e+06. This might indicate that there are\n",
       "strong multicollinearity or other numerical problems.\n",
       "\"\"\""
      ]
     },
     "execution_count": 43,
     "metadata": {},
     "output_type": "execute_result"
    }
   ],
   "source": [
    "model_numeric.summary()"
   ]
  },
  {
   "cell_type": "markdown",
   "metadata": {},
   "source": [
    "# Make model from both categorical and continuous data."
   ]
  },
  {
   "cell_type": "code",
   "execution_count": 44,
   "metadata": {},
   "outputs": [],
   "source": [
    "X_train = pd.concat([X_train_cat_dummies, features_updated],axis=1)"
   ]
  },
  {
   "cell_type": "code",
   "execution_count": 45,
   "metadata": {},
   "outputs": [],
   "source": [
    "X_train = X_train.dropna(axis=0)"
   ]
  },
  {
   "cell_type": "code",
   "execution_count": 46,
   "metadata": {},
   "outputs": [
    {
     "data": {
      "text/plain": [
       "(1969, 80)"
      ]
     },
     "execution_count": 46,
     "metadata": {},
     "output_type": "execute_result"
    }
   ],
   "source": [
    "X_train.shape"
   ]
  },
  {
   "cell_type": "code",
   "execution_count": 47,
   "metadata": {},
   "outputs": [],
   "source": [
    "y = train_numeric[\"SalePrice\"]"
   ]
  },
  {
   "cell_type": "code",
   "execution_count": 48,
   "metadata": {},
   "outputs": [
    {
     "data": {
      "text/plain": [
       "(1969,)"
      ]
     },
     "execution_count": 48,
     "metadata": {},
     "output_type": "execute_result"
    }
   ],
   "source": [
    "y.shape"
   ]
  },
  {
   "cell_type": "code",
   "execution_count": 49,
   "metadata": {},
   "outputs": [],
   "source": [
    "model_both = sm.OLS(y, sm.add_constant(X_train)).fit()"
   ]
  },
  {
   "cell_type": "code",
   "execution_count": 50,
   "metadata": {},
   "outputs": [
    {
     "data": {
      "text/html": [
       "<table class=\"simpletable\">\n",
       "<caption>OLS Regression Results</caption>\n",
       "<tr>\n",
       "  <th>Dep. Variable:</th>        <td>SalePrice</td>    <th>  R-squared:         </th> <td>   0.845</td> \n",
       "</tr>\n",
       "<tr>\n",
       "  <th>Model:</th>                   <td>OLS</td>       <th>  Adj. R-squared:    </th> <td>   0.839</td> \n",
       "</tr>\n",
       "<tr>\n",
       "  <th>Method:</th>             <td>Least Squares</td>  <th>  F-statistic:       </th> <td>   137.9</td> \n",
       "</tr>\n",
       "<tr>\n",
       "  <th>Date:</th>             <td>Sun, 23 Feb 2020</td> <th>  Prob (F-statistic):</th>  <td>  0.00</td>  \n",
       "</tr>\n",
       "<tr>\n",
       "  <th>Time:</th>                 <td>18:05:33</td>     <th>  Log-Likelihood:    </th> <td> -22907.</td> \n",
       "</tr>\n",
       "<tr>\n",
       "  <th>No. Observations:</th>      <td>  1969</td>      <th>  AIC:               </th> <td>4.597e+04</td>\n",
       "</tr>\n",
       "<tr>\n",
       "  <th>Df Residuals:</th>          <td>  1893</td>      <th>  BIC:               </th> <td>4.639e+04</td>\n",
       "</tr>\n",
       "<tr>\n",
       "  <th>Df Model:</th>              <td>    75</td>      <th>                     </th>     <td> </td>    \n",
       "</tr>\n",
       "<tr>\n",
       "  <th>Covariance Type:</th>      <td>nonrobust</td>    <th>                     </th>     <td> </td>    \n",
       "</tr>\n",
       "</table>\n",
       "<table class=\"simpletable\">\n",
       "<tr>\n",
       "            <td></td>              <th>coef</th>     <th>std err</th>      <th>t</th>      <th>P>|t|</th>  <th>[0.025</th>    <th>0.975]</th>  \n",
       "</tr>\n",
       "<tr>\n",
       "  <th>const</th>                <td> 1.303e+06</td> <td> 5.26e+05</td> <td>    2.475</td> <td> 0.013</td> <td> 2.71e+05</td> <td> 2.34e+06</td>\n",
       "</tr>\n",
       "<tr>\n",
       "  <th>Neighborhood_Blmngtn</th> <td> 4.254e+04</td> <td> 1.99e+04</td> <td>    2.141</td> <td> 0.032</td> <td> 3575.031</td> <td> 8.15e+04</td>\n",
       "</tr>\n",
       "<tr>\n",
       "  <th>Neighborhood_Blueste</th> <td> 1.624e+04</td> <td> 2.23e+04</td> <td>    0.728</td> <td> 0.467</td> <td>-2.75e+04</td> <td>    6e+04</td>\n",
       "</tr>\n",
       "<tr>\n",
       "  <th>Neighborhood_BrDale</th>  <td> 3311.8966</td> <td> 2.02e+04</td> <td>    0.164</td> <td> 0.870</td> <td>-3.63e+04</td> <td>  4.3e+04</td>\n",
       "</tr>\n",
       "<tr>\n",
       "  <th>Neighborhood_BrkSide</th> <td> 2.859e+04</td> <td> 1.93e+04</td> <td>    1.484</td> <td> 0.138</td> <td>-9205.206</td> <td> 6.64e+04</td>\n",
       "</tr>\n",
       "<tr>\n",
       "  <th>Neighborhood_ClearCr</th> <td> 5.396e+04</td> <td> 1.95e+04</td> <td>    2.771</td> <td> 0.006</td> <td> 1.58e+04</td> <td> 9.21e+04</td>\n",
       "</tr>\n",
       "<tr>\n",
       "  <th>Neighborhood_CollgCr</th> <td> 4.982e+04</td> <td>  1.9e+04</td> <td>    2.617</td> <td> 0.009</td> <td> 1.25e+04</td> <td> 8.72e+04</td>\n",
       "</tr>\n",
       "<tr>\n",
       "  <th>Neighborhood_Crawfor</th> <td> 6.181e+04</td> <td> 1.91e+04</td> <td>    3.236</td> <td> 0.001</td> <td> 2.43e+04</td> <td> 9.93e+04</td>\n",
       "</tr>\n",
       "<tr>\n",
       "  <th>Neighborhood_Edwards</th> <td> 2.407e+04</td> <td>  1.9e+04</td> <td>    1.264</td> <td> 0.206</td> <td>-1.33e+04</td> <td> 6.14e+04</td>\n",
       "</tr>\n",
       "<tr>\n",
       "  <th>Neighborhood_Gilbert</th> <td>  4.21e+04</td> <td> 1.92e+04</td> <td>    2.198</td> <td> 0.028</td> <td> 4532.692</td> <td> 7.97e+04</td>\n",
       "</tr>\n",
       "<tr>\n",
       "  <th>Neighborhood_Greens</th>  <td> 1.888e+04</td> <td> 2.17e+04</td> <td>    0.869</td> <td> 0.385</td> <td>-2.37e+04</td> <td> 6.15e+04</td>\n",
       "</tr>\n",
       "<tr>\n",
       "  <th>Neighborhood_GrnHill</th> <td> 1.843e+05</td> <td> 3.27e+04</td> <td>    5.633</td> <td> 0.000</td> <td>  1.2e+05</td> <td> 2.48e+05</td>\n",
       "</tr>\n",
       "<tr>\n",
       "  <th>Neighborhood_IDOTRR</th>  <td> 2.067e+04</td> <td> 1.93e+04</td> <td>    1.073</td> <td> 0.283</td> <td>-1.71e+04</td> <td> 5.84e+04</td>\n",
       "</tr>\n",
       "<tr>\n",
       "  <th>Neighborhood_Landmrk</th> <td> 2.402e+04</td> <td> 3.24e+04</td> <td>    0.740</td> <td> 0.459</td> <td>-3.96e+04</td> <td> 8.77e+04</td>\n",
       "</tr>\n",
       "<tr>\n",
       "  <th>Neighborhood_MeadowV</th> <td> 1.031e+04</td> <td> 1.99e+04</td> <td>    0.519</td> <td> 0.604</td> <td>-2.87e+04</td> <td> 4.93e+04</td>\n",
       "</tr>\n",
       "<tr>\n",
       "  <th>Neighborhood_Mitchel</th> <td> 3.811e+04</td> <td> 1.92e+04</td> <td>    1.987</td> <td> 0.047</td> <td>  500.887</td> <td> 7.57e+04</td>\n",
       "</tr>\n",
       "<tr>\n",
       "  <th>Neighborhood_NAmes</th>   <td> 3.234e+04</td> <td> 1.89e+04</td> <td>    1.707</td> <td> 0.088</td> <td>-4813.252</td> <td> 6.95e+04</td>\n",
       "</tr>\n",
       "<tr>\n",
       "  <th>Neighborhood_NPkVill</th> <td> 2.813e+04</td> <td> 2.06e+04</td> <td>    1.367</td> <td> 0.172</td> <td>-1.22e+04</td> <td> 6.85e+04</td>\n",
       "</tr>\n",
       "<tr>\n",
       "  <th>Neighborhood_NWAmes</th>  <td>  4.51e+04</td> <td> 1.91e+04</td> <td>    2.357</td> <td> 0.019</td> <td> 7577.295</td> <td> 8.26e+04</td>\n",
       "</tr>\n",
       "<tr>\n",
       "  <th>Neighborhood_NoRidge</th> <td> 1.031e+05</td> <td> 1.95e+04</td> <td>    5.290</td> <td> 0.000</td> <td> 6.49e+04</td> <td> 1.41e+05</td>\n",
       "</tr>\n",
       "<tr>\n",
       "  <th>Neighborhood_NridgHt</th> <td> 7.891e+04</td> <td> 1.92e+04</td> <td>    4.104</td> <td> 0.000</td> <td> 4.12e+04</td> <td> 1.17e+05</td>\n",
       "</tr>\n",
       "<tr>\n",
       "  <th>Neighborhood_OldTown</th> <td> 2.374e+04</td> <td> 1.92e+04</td> <td>    1.240</td> <td> 0.215</td> <td>-1.38e+04</td> <td> 6.13e+04</td>\n",
       "</tr>\n",
       "<tr>\n",
       "  <th>Neighborhood_SWISU</th>   <td> 2.141e+04</td> <td> 1.96e+04</td> <td>    1.090</td> <td> 0.276</td> <td>-1.71e+04</td> <td> 5.99e+04</td>\n",
       "</tr>\n",
       "<tr>\n",
       "  <th>Neighborhood_Sawyer</th>  <td> 3.101e+04</td> <td> 1.91e+04</td> <td>    1.624</td> <td> 0.104</td> <td>-6430.073</td> <td> 6.85e+04</td>\n",
       "</tr>\n",
       "<tr>\n",
       "  <th>Neighborhood_SawyerW</th> <td>  4.15e+04</td> <td> 1.93e+04</td> <td>    2.146</td> <td> 0.032</td> <td> 3577.364</td> <td> 7.94e+04</td>\n",
       "</tr>\n",
       "<tr>\n",
       "  <th>Neighborhood_Somerst</th> <td> 6.316e+04</td> <td> 1.92e+04</td> <td>    3.296</td> <td> 0.001</td> <td> 2.56e+04</td> <td> 1.01e+05</td>\n",
       "</tr>\n",
       "<tr>\n",
       "  <th>Neighborhood_StoneBr</th> <td> 7.576e+04</td> <td> 1.97e+04</td> <td>    3.847</td> <td> 0.000</td> <td> 3.71e+04</td> <td> 1.14e+05</td>\n",
       "</tr>\n",
       "<tr>\n",
       "  <th>Neighborhood_Timber</th>  <td> 6.434e+04</td> <td> 1.93e+04</td> <td>    3.332</td> <td> 0.001</td> <td> 2.65e+04</td> <td> 1.02e+05</td>\n",
       "</tr>\n",
       "<tr>\n",
       "  <th>Neighborhood_Veenker</th> <td> 7.566e+04</td> <td> 1.99e+04</td> <td>    3.803</td> <td> 0.000</td> <td> 3.66e+04</td> <td> 1.15e+05</td>\n",
       "</tr>\n",
       "<tr>\n",
       "  <th>House Style_1.5Fin</th>   <td> 1.671e+05</td> <td>  6.6e+04</td> <td>    2.533</td> <td> 0.011</td> <td> 3.77e+04</td> <td> 2.96e+05</td>\n",
       "</tr>\n",
       "<tr>\n",
       "  <th>House Style_1.5Unf</th>   <td>  1.58e+05</td> <td>  6.6e+04</td> <td>    2.395</td> <td> 0.017</td> <td> 2.86e+04</td> <td> 2.87e+05</td>\n",
       "</tr>\n",
       "<tr>\n",
       "  <th>House Style_1Story</th>   <td> 1.667e+05</td> <td> 6.59e+04</td> <td>    2.529</td> <td> 0.012</td> <td> 3.74e+04</td> <td> 2.96e+05</td>\n",
       "</tr>\n",
       "<tr>\n",
       "  <th>House Style_2.5Fin</th>   <td> 1.685e+05</td> <td> 6.67e+04</td> <td>    2.527</td> <td> 0.012</td> <td> 3.77e+04</td> <td> 2.99e+05</td>\n",
       "</tr>\n",
       "<tr>\n",
       "  <th>House Style_2.5Unf</th>   <td> 1.616e+05</td> <td>  6.6e+04</td> <td>    2.447</td> <td> 0.014</td> <td> 3.21e+04</td> <td> 2.91e+05</td>\n",
       "</tr>\n",
       "<tr>\n",
       "  <th>House Style_2Story</th>   <td> 1.675e+05</td> <td> 6.59e+04</td> <td>    2.543</td> <td> 0.011</td> <td> 3.83e+04</td> <td> 2.97e+05</td>\n",
       "</tr>\n",
       "<tr>\n",
       "  <th>House Style_SFoyer</th>   <td> 1.559e+05</td> <td> 6.61e+04</td> <td>    2.360</td> <td> 0.018</td> <td> 2.64e+04</td> <td> 2.85e+05</td>\n",
       "</tr>\n",
       "<tr>\n",
       "  <th>House Style_SLvl</th>     <td> 1.575e+05</td> <td> 6.61e+04</td> <td>    2.385</td> <td> 0.017</td> <td>  2.8e+04</td> <td> 2.87e+05</td>\n",
       "</tr>\n",
       "<tr>\n",
       "  <th>Bsmt Qual_Ex</th>         <td> 4.219e+04</td> <td> 1.73e+04</td> <td>    2.435</td> <td> 0.015</td> <td> 8203.237</td> <td> 7.62e+04</td>\n",
       "</tr>\n",
       "<tr>\n",
       "  <th>Bsmt Qual_Fa</th>         <td> 5595.0902</td> <td> 1.73e+04</td> <td>    0.323</td> <td> 0.747</td> <td>-2.83e+04</td> <td> 3.95e+04</td>\n",
       "</tr>\n",
       "<tr>\n",
       "  <th>Bsmt Qual_Gd</th>         <td> 1.641e+04</td> <td>  1.7e+04</td> <td>    0.963</td> <td> 0.336</td> <td> -1.7e+04</td> <td> 4.98e+04</td>\n",
       "</tr>\n",
       "<tr>\n",
       "  <th>Bsmt Qual_Po</th>         <td> 1.333e+04</td> <td> 3.29e+04</td> <td>    0.405</td> <td> 0.686</td> <td>-5.12e+04</td> <td> 7.79e+04</td>\n",
       "</tr>\n",
       "<tr>\n",
       "  <th>Bsmt Qual_TA</th>         <td> 7335.6353</td> <td> 1.69e+04</td> <td>    0.433</td> <td> 0.665</td> <td>-2.59e+04</td> <td> 4.06e+04</td>\n",
       "</tr>\n",
       "<tr>\n",
       "  <th>Bsmt Exposure_Av</th>     <td> 3197.3548</td> <td> 1.63e+04</td> <td>    0.196</td> <td> 0.845</td> <td>-2.88e+04</td> <td> 3.52e+04</td>\n",
       "</tr>\n",
       "<tr>\n",
       "  <th>Bsmt Exposure_Gd</th>     <td> 1.699e+04</td> <td> 1.65e+04</td> <td>    1.032</td> <td> 0.302</td> <td>-1.53e+04</td> <td> 4.93e+04</td>\n",
       "</tr>\n",
       "<tr>\n",
       "  <th>Bsmt Exposure_Mn</th>     <td>-4730.8814</td> <td> 1.64e+04</td> <td>   -0.289</td> <td> 0.773</td> <td>-3.69e+04</td> <td> 2.74e+04</td>\n",
       "</tr>\n",
       "<tr>\n",
       "  <th>Bsmt Exposure_No</th>     <td>-6443.3539</td> <td> 1.63e+04</td> <td>   -0.396</td> <td> 0.692</td> <td>-3.83e+04</td> <td> 2.54e+04</td>\n",
       "</tr>\n",
       "<tr>\n",
       "  <th>Heating_Floor</th>        <td> 2.223e+05</td> <td>  9.1e+04</td> <td>    2.442</td> <td> 0.015</td> <td> 4.38e+04</td> <td> 4.01e+05</td>\n",
       "</tr>\n",
       "<tr>\n",
       "  <th>Heating_GasA</th>         <td> 2.224e+05</td> <td> 8.78e+04</td> <td>    2.532</td> <td> 0.011</td> <td> 5.01e+04</td> <td> 3.95e+05</td>\n",
       "</tr>\n",
       "<tr>\n",
       "  <th>Heating_GasW</th>         <td>  2.33e+05</td> <td> 8.79e+04</td> <td>    2.650</td> <td> 0.008</td> <td> 6.06e+04</td> <td> 4.06e+05</td>\n",
       "</tr>\n",
       "<tr>\n",
       "  <th>Heating_Grav</th>         <td> 2.039e+05</td> <td> 8.85e+04</td> <td>    2.303</td> <td> 0.021</td> <td> 3.02e+04</td> <td> 3.77e+05</td>\n",
       "</tr>\n",
       "<tr>\n",
       "  <th>Heating_OthW</th>         <td> 1.887e+05</td> <td> 9.11e+04</td> <td>    2.071</td> <td> 0.038</td> <td>    1e+04</td> <td> 3.67e+05</td>\n",
       "</tr>\n",
       "<tr>\n",
       "  <th>Heating_Wall</th>         <td> 2.325e+05</td> <td> 8.91e+04</td> <td>    2.610</td> <td> 0.009</td> <td> 5.78e+04</td> <td> 4.07e+05</td>\n",
       "</tr>\n",
       "<tr>\n",
       "  <th>Kitchen Qual_Ex</th>      <td> 2.914e+05</td> <td> 1.05e+05</td> <td>    2.769</td> <td> 0.006</td> <td>  8.5e+04</td> <td> 4.98e+05</td>\n",
       "</tr>\n",
       "<tr>\n",
       "  <th>Kitchen Qual_Fa</th>      <td> 2.592e+05</td> <td> 1.05e+05</td> <td>    2.464</td> <td> 0.014</td> <td> 5.29e+04</td> <td> 4.65e+05</td>\n",
       "</tr>\n",
       "<tr>\n",
       "  <th>Kitchen Qual_Gd</th>      <td> 2.675e+05</td> <td> 1.05e+05</td> <td>    2.543</td> <td> 0.011</td> <td> 6.12e+04</td> <td> 4.74e+05</td>\n",
       "</tr>\n",
       "<tr>\n",
       "  <th>Kitchen Qual_Po</th>      <td> 2.279e+05</td> <td> 1.09e+05</td> <td>    2.096</td> <td> 0.036</td> <td> 1.46e+04</td> <td> 4.41e+05</td>\n",
       "</tr>\n",
       "<tr>\n",
       "  <th>Kitchen Qual_TA</th>      <td> 2.569e+05</td> <td> 1.05e+05</td> <td>    2.443</td> <td> 0.015</td> <td> 5.06e+04</td> <td> 4.63e+05</td>\n",
       "</tr>\n",
       "<tr>\n",
       "  <th>Fireplace Qu_Ex</th>      <td> 3.658e+04</td> <td> 6408.570</td> <td>    5.707</td> <td> 0.000</td> <td>  2.4e+04</td> <td> 4.91e+04</td>\n",
       "</tr>\n",
       "<tr>\n",
       "  <th>Fireplace Qu_Fa</th>      <td>-3864.7181</td> <td> 5001.760</td> <td>   -0.773</td> <td> 0.440</td> <td>-1.37e+04</td> <td> 5944.824</td>\n",
       "</tr>\n",
       "<tr>\n",
       "  <th>Fireplace Qu_Gd</th>      <td> 7620.9857</td> <td> 3295.661</td> <td>    2.312</td> <td> 0.021</td> <td> 1157.476</td> <td> 1.41e+04</td>\n",
       "</tr>\n",
       "<tr>\n",
       "  <th>Fireplace Qu_Po</th>      <td>-1710.7552</td> <td> 5488.804</td> <td>   -0.312</td> <td> 0.755</td> <td>-1.25e+04</td> <td> 9053.985</td>\n",
       "</tr>\n",
       "<tr>\n",
       "  <th>Fireplace Qu_TA</th>      <td> 5445.6444</td> <td> 3428.355</td> <td>    1.588</td> <td> 0.112</td> <td>-1278.108</td> <td> 1.22e+04</td>\n",
       "</tr>\n",
       "<tr>\n",
       "  <th>Paved Drive_N</th>        <td> 4.321e+05</td> <td> 1.75e+05</td> <td>    2.463</td> <td> 0.014</td> <td> 8.81e+04</td> <td> 7.76e+05</td>\n",
       "</tr>\n",
       "<tr>\n",
       "  <th>Paved Drive_P</th>        <td> 4.306e+05</td> <td> 1.75e+05</td> <td>    2.454</td> <td> 0.014</td> <td> 8.64e+04</td> <td> 7.75e+05</td>\n",
       "</tr>\n",
       "<tr>\n",
       "  <th>Paved Drive_Y</th>        <td> 4.402e+05</td> <td> 1.75e+05</td> <td>    2.509</td> <td> 0.012</td> <td> 9.61e+04</td> <td> 7.84e+05</td>\n",
       "</tr>\n",
       "<tr>\n",
       "  <th>Lot Frontage</th>         <td>  171.0465</td> <td>   37.630</td> <td>    4.545</td> <td> 0.000</td> <td>   97.245</td> <td>  244.848</td>\n",
       "</tr>\n",
       "<tr>\n",
       "  <th>Overall Qual</th>         <td> 1.414e+04</td> <td>  858.668</td> <td>   16.473</td> <td> 0.000</td> <td> 1.25e+04</td> <td> 1.58e+04</td>\n",
       "</tr>\n",
       "<tr>\n",
       "  <th>Overall Cond</th>         <td> 4125.1432</td> <td>  672.629</td> <td>    6.133</td> <td> 0.000</td> <td> 2805.972</td> <td> 5444.314</td>\n",
       "</tr>\n",
       "<tr>\n",
       "  <th>Mas Vnr Area</th>         <td>   18.7465</td> <td>    4.757</td> <td>    3.941</td> <td> 0.000</td> <td>    9.418</td> <td>   28.076</td>\n",
       "</tr>\n",
       "<tr>\n",
       "  <th>BsmtFin SF 2</th>         <td>    1.8845</td> <td>    4.088</td> <td>    0.461</td> <td> 0.645</td> <td>   -6.133</td> <td>    9.902</td>\n",
       "</tr>\n",
       "<tr>\n",
       "  <th>Bsmt Unf SF</th>          <td>    4.7611</td> <td>    2.088</td> <td>    2.280</td> <td> 0.023</td> <td>    0.665</td> <td>    8.857</td>\n",
       "</tr>\n",
       "<tr>\n",
       "  <th>Bsmt Full Bath</th>       <td>  1.15e+04</td> <td> 1660.095</td> <td>    6.926</td> <td> 0.000</td> <td> 8242.477</td> <td> 1.48e+04</td>\n",
       "</tr>\n",
       "<tr>\n",
       "  <th>Bsmt Half Bath</th>       <td>  466.4681</td> <td> 2873.160</td> <td>    0.162</td> <td> 0.871</td> <td>-5168.426</td> <td> 6101.362</td>\n",
       "</tr>\n",
       "<tr>\n",
       "  <th>Half Bath</th>            <td> 5749.4149</td> <td> 1759.619</td> <td>    3.267</td> <td> 0.001</td> <td> 2298.419</td> <td> 9200.411</td>\n",
       "</tr>\n",
       "<tr>\n",
       "  <th>Bedroom AbvGr</th>        <td> 1.029e+04</td> <td> 1011.208</td> <td>   10.180</td> <td> 0.000</td> <td> 8310.424</td> <td> 1.23e+04</td>\n",
       "</tr>\n",
       "<tr>\n",
       "  <th>Kitchen AbvGr</th>        <td>-3523.9592</td> <td> 3618.523</td> <td>   -0.974</td> <td> 0.330</td> <td>-1.06e+04</td> <td> 3572.754</td>\n",
       "</tr>\n",
       "<tr>\n",
       "  <th>Fireplaces</th>           <td> 8909.3081</td> <td> 2431.684</td> <td>    3.664</td> <td> 0.000</td> <td> 4140.245</td> <td> 1.37e+04</td>\n",
       "</tr>\n",
       "<tr>\n",
       "  <th>Wood Deck SF</th>         <td>   31.4836</td> <td>    5.538</td> <td>    5.685</td> <td> 0.000</td> <td>   20.623</td> <td>   42.344</td>\n",
       "</tr>\n",
       "<tr>\n",
       "  <th>Enclosed Porch</th>       <td>   11.7836</td> <td>   11.256</td> <td>    1.047</td> <td> 0.295</td> <td>  -10.292</td> <td>   33.860</td>\n",
       "</tr>\n",
       "<tr>\n",
       "  <th>Pool Area</th>            <td>  -17.9543</td> <td>   16.657</td> <td>   -1.078</td> <td> 0.281</td> <td>  -50.622</td> <td>   14.713</td>\n",
       "</tr>\n",
       "<tr>\n",
       "  <th>Yr Sold</th>              <td>-1215.6515</td> <td>  487.730</td> <td>   -2.492</td> <td> 0.013</td> <td>-2172.195</td> <td> -259.108</td>\n",
       "</tr>\n",
       "</table>\n",
       "<table class=\"simpletable\">\n",
       "<tr>\n",
       "  <th>Omnibus:</th>       <td>281.672</td> <th>  Durbin-Watson:     </th> <td>   2.017</td>\n",
       "</tr>\n",
       "<tr>\n",
       "  <th>Prob(Omnibus):</th> <td> 0.000</td>  <th>  Jarque-Bera (JB):  </th> <td>3453.091</td>\n",
       "</tr>\n",
       "<tr>\n",
       "  <th>Skew:</th>          <td> 0.190</td>  <th>  Prob(JB):          </th> <td>    0.00</td>\n",
       "</tr>\n",
       "<tr>\n",
       "  <th>Kurtosis:</th>      <td> 9.477</td>  <th>  Cond. No.          </th> <td>1.00e+16</td>\n",
       "</tr>\n",
       "</table><br/><br/>Warnings:<br/>[1] Standard Errors assume that the covariance matrix of the errors is correctly specified.<br/>[2] The smallest eigenvalue is 8.61e-23. This might indicate that there are<br/>strong multicollinearity problems or that the design matrix is singular."
      ],
      "text/plain": [
       "<class 'statsmodels.iolib.summary.Summary'>\n",
       "\"\"\"\n",
       "                            OLS Regression Results                            \n",
       "==============================================================================\n",
       "Dep. Variable:              SalePrice   R-squared:                       0.845\n",
       "Model:                            OLS   Adj. R-squared:                  0.839\n",
       "Method:                 Least Squares   F-statistic:                     137.9\n",
       "Date:                Sun, 23 Feb 2020   Prob (F-statistic):               0.00\n",
       "Time:                        18:05:33   Log-Likelihood:                -22907.\n",
       "No. Observations:                1969   AIC:                         4.597e+04\n",
       "Df Residuals:                    1893   BIC:                         4.639e+04\n",
       "Df Model:                          75                                         \n",
       "Covariance Type:            nonrobust                                         \n",
       "========================================================================================\n",
       "                           coef    std err          t      P>|t|      [0.025      0.975]\n",
       "----------------------------------------------------------------------------------------\n",
       "const                 1.303e+06   5.26e+05      2.475      0.013    2.71e+05    2.34e+06\n",
       "Neighborhood_Blmngtn  4.254e+04   1.99e+04      2.141      0.032    3575.031    8.15e+04\n",
       "Neighborhood_Blueste  1.624e+04   2.23e+04      0.728      0.467   -2.75e+04       6e+04\n",
       "Neighborhood_BrDale   3311.8966   2.02e+04      0.164      0.870   -3.63e+04     4.3e+04\n",
       "Neighborhood_BrkSide  2.859e+04   1.93e+04      1.484      0.138   -9205.206    6.64e+04\n",
       "Neighborhood_ClearCr  5.396e+04   1.95e+04      2.771      0.006    1.58e+04    9.21e+04\n",
       "Neighborhood_CollgCr  4.982e+04    1.9e+04      2.617      0.009    1.25e+04    8.72e+04\n",
       "Neighborhood_Crawfor  6.181e+04   1.91e+04      3.236      0.001    2.43e+04    9.93e+04\n",
       "Neighborhood_Edwards  2.407e+04    1.9e+04      1.264      0.206   -1.33e+04    6.14e+04\n",
       "Neighborhood_Gilbert   4.21e+04   1.92e+04      2.198      0.028    4532.692    7.97e+04\n",
       "Neighborhood_Greens   1.888e+04   2.17e+04      0.869      0.385   -2.37e+04    6.15e+04\n",
       "Neighborhood_GrnHill  1.843e+05   3.27e+04      5.633      0.000     1.2e+05    2.48e+05\n",
       "Neighborhood_IDOTRR   2.067e+04   1.93e+04      1.073      0.283   -1.71e+04    5.84e+04\n",
       "Neighborhood_Landmrk  2.402e+04   3.24e+04      0.740      0.459   -3.96e+04    8.77e+04\n",
       "Neighborhood_MeadowV  1.031e+04   1.99e+04      0.519      0.604   -2.87e+04    4.93e+04\n",
       "Neighborhood_Mitchel  3.811e+04   1.92e+04      1.987      0.047     500.887    7.57e+04\n",
       "Neighborhood_NAmes    3.234e+04   1.89e+04      1.707      0.088   -4813.252    6.95e+04\n",
       "Neighborhood_NPkVill  2.813e+04   2.06e+04      1.367      0.172   -1.22e+04    6.85e+04\n",
       "Neighborhood_NWAmes    4.51e+04   1.91e+04      2.357      0.019    7577.295    8.26e+04\n",
       "Neighborhood_NoRidge  1.031e+05   1.95e+04      5.290      0.000    6.49e+04    1.41e+05\n",
       "Neighborhood_NridgHt  7.891e+04   1.92e+04      4.104      0.000    4.12e+04    1.17e+05\n",
       "Neighborhood_OldTown  2.374e+04   1.92e+04      1.240      0.215   -1.38e+04    6.13e+04\n",
       "Neighborhood_SWISU    2.141e+04   1.96e+04      1.090      0.276   -1.71e+04    5.99e+04\n",
       "Neighborhood_Sawyer   3.101e+04   1.91e+04      1.624      0.104   -6430.073    6.85e+04\n",
       "Neighborhood_SawyerW   4.15e+04   1.93e+04      2.146      0.032    3577.364    7.94e+04\n",
       "Neighborhood_Somerst  6.316e+04   1.92e+04      3.296      0.001    2.56e+04    1.01e+05\n",
       "Neighborhood_StoneBr  7.576e+04   1.97e+04      3.847      0.000    3.71e+04    1.14e+05\n",
       "Neighborhood_Timber   6.434e+04   1.93e+04      3.332      0.001    2.65e+04    1.02e+05\n",
       "Neighborhood_Veenker  7.566e+04   1.99e+04      3.803      0.000    3.66e+04    1.15e+05\n",
       "House Style_1.5Fin    1.671e+05    6.6e+04      2.533      0.011    3.77e+04    2.96e+05\n",
       "House Style_1.5Unf     1.58e+05    6.6e+04      2.395      0.017    2.86e+04    2.87e+05\n",
       "House Style_1Story    1.667e+05   6.59e+04      2.529      0.012    3.74e+04    2.96e+05\n",
       "House Style_2.5Fin    1.685e+05   6.67e+04      2.527      0.012    3.77e+04    2.99e+05\n",
       "House Style_2.5Unf    1.616e+05    6.6e+04      2.447      0.014    3.21e+04    2.91e+05\n",
       "House Style_2Story    1.675e+05   6.59e+04      2.543      0.011    3.83e+04    2.97e+05\n",
       "House Style_SFoyer    1.559e+05   6.61e+04      2.360      0.018    2.64e+04    2.85e+05\n",
       "House Style_SLvl      1.575e+05   6.61e+04      2.385      0.017     2.8e+04    2.87e+05\n",
       "Bsmt Qual_Ex          4.219e+04   1.73e+04      2.435      0.015    8203.237    7.62e+04\n",
       "Bsmt Qual_Fa          5595.0902   1.73e+04      0.323      0.747   -2.83e+04    3.95e+04\n",
       "Bsmt Qual_Gd          1.641e+04    1.7e+04      0.963      0.336    -1.7e+04    4.98e+04\n",
       "Bsmt Qual_Po          1.333e+04   3.29e+04      0.405      0.686   -5.12e+04    7.79e+04\n",
       "Bsmt Qual_TA          7335.6353   1.69e+04      0.433      0.665   -2.59e+04    4.06e+04\n",
       "Bsmt Exposure_Av      3197.3548   1.63e+04      0.196      0.845   -2.88e+04    3.52e+04\n",
       "Bsmt Exposure_Gd      1.699e+04   1.65e+04      1.032      0.302   -1.53e+04    4.93e+04\n",
       "Bsmt Exposure_Mn     -4730.8814   1.64e+04     -0.289      0.773   -3.69e+04    2.74e+04\n",
       "Bsmt Exposure_No     -6443.3539   1.63e+04     -0.396      0.692   -3.83e+04    2.54e+04\n",
       "Heating_Floor         2.223e+05    9.1e+04      2.442      0.015    4.38e+04    4.01e+05\n",
       "Heating_GasA          2.224e+05   8.78e+04      2.532      0.011    5.01e+04    3.95e+05\n",
       "Heating_GasW           2.33e+05   8.79e+04      2.650      0.008    6.06e+04    4.06e+05\n",
       "Heating_Grav          2.039e+05   8.85e+04      2.303      0.021    3.02e+04    3.77e+05\n",
       "Heating_OthW          1.887e+05   9.11e+04      2.071      0.038       1e+04    3.67e+05\n",
       "Heating_Wall          2.325e+05   8.91e+04      2.610      0.009    5.78e+04    4.07e+05\n",
       "Kitchen Qual_Ex       2.914e+05   1.05e+05      2.769      0.006     8.5e+04    4.98e+05\n",
       "Kitchen Qual_Fa       2.592e+05   1.05e+05      2.464      0.014    5.29e+04    4.65e+05\n",
       "Kitchen Qual_Gd       2.675e+05   1.05e+05      2.543      0.011    6.12e+04    4.74e+05\n",
       "Kitchen Qual_Po       2.279e+05   1.09e+05      2.096      0.036    1.46e+04    4.41e+05\n",
       "Kitchen Qual_TA       2.569e+05   1.05e+05      2.443      0.015    5.06e+04    4.63e+05\n",
       "Fireplace Qu_Ex       3.658e+04   6408.570      5.707      0.000     2.4e+04    4.91e+04\n",
       "Fireplace Qu_Fa      -3864.7181   5001.760     -0.773      0.440   -1.37e+04    5944.824\n",
       "Fireplace Qu_Gd       7620.9857   3295.661      2.312      0.021    1157.476    1.41e+04\n",
       "Fireplace Qu_Po      -1710.7552   5488.804     -0.312      0.755   -1.25e+04    9053.985\n",
       "Fireplace Qu_TA       5445.6444   3428.355      1.588      0.112   -1278.108    1.22e+04\n",
       "Paved Drive_N         4.321e+05   1.75e+05      2.463      0.014    8.81e+04    7.76e+05\n",
       "Paved Drive_P         4.306e+05   1.75e+05      2.454      0.014    8.64e+04    7.75e+05\n",
       "Paved Drive_Y         4.402e+05   1.75e+05      2.509      0.012    9.61e+04    7.84e+05\n",
       "Lot Frontage           171.0465     37.630      4.545      0.000      97.245     244.848\n",
       "Overall Qual          1.414e+04    858.668     16.473      0.000    1.25e+04    1.58e+04\n",
       "Overall Cond          4125.1432    672.629      6.133      0.000    2805.972    5444.314\n",
       "Mas Vnr Area            18.7465      4.757      3.941      0.000       9.418      28.076\n",
       "BsmtFin SF 2             1.8845      4.088      0.461      0.645      -6.133       9.902\n",
       "Bsmt Unf SF              4.7611      2.088      2.280      0.023       0.665       8.857\n",
       "Bsmt Full Bath         1.15e+04   1660.095      6.926      0.000    8242.477    1.48e+04\n",
       "Bsmt Half Bath         466.4681   2873.160      0.162      0.871   -5168.426    6101.362\n",
       "Half Bath             5749.4149   1759.619      3.267      0.001    2298.419    9200.411\n",
       "Bedroom AbvGr         1.029e+04   1011.208     10.180      0.000    8310.424    1.23e+04\n",
       "Kitchen AbvGr        -3523.9592   3618.523     -0.974      0.330   -1.06e+04    3572.754\n",
       "Fireplaces            8909.3081   2431.684      3.664      0.000    4140.245    1.37e+04\n",
       "Wood Deck SF            31.4836      5.538      5.685      0.000      20.623      42.344\n",
       "Enclosed Porch          11.7836     11.256      1.047      0.295     -10.292      33.860\n",
       "Pool Area              -17.9543     16.657     -1.078      0.281     -50.622      14.713\n",
       "Yr Sold              -1215.6515    487.730     -2.492      0.013   -2172.195    -259.108\n",
       "==============================================================================\n",
       "Omnibus:                      281.672   Durbin-Watson:                   2.017\n",
       "Prob(Omnibus):                  0.000   Jarque-Bera (JB):             3453.091\n",
       "Skew:                           0.190   Prob(JB):                         0.00\n",
       "Kurtosis:                       9.477   Cond. No.                     1.00e+16\n",
       "==============================================================================\n",
       "\n",
       "Warnings:\n",
       "[1] Standard Errors assume that the covariance matrix of the errors is correctly specified.\n",
       "[2] The smallest eigenvalue is 8.61e-23. This might indicate that there are\n",
       "strong multicollinearity problems or that the design matrix is singular.\n",
       "\"\"\""
      ]
     },
     "execution_count": 50,
     "metadata": {},
     "output_type": "execute_result"
    }
   ],
   "source": [
    "model_both.summary()"
   ]
  },
  {
   "cell_type": "markdown",
   "metadata": {},
   "source": [
    "# Predict on test data"
   ]
  },
  {
   "cell_type": "code",
   "execution_count": 51,
   "metadata": {},
   "outputs": [],
   "source": [
    "#Read the test set in\n",
    "test = pd.read_csv('/Users/gracegupta/Desktop/housing_data/test.csv')"
   ]
  },
  {
   "cell_type": "code",
   "execution_count": 52,
   "metadata": {},
   "outputs": [
    {
     "data": {
      "text/plain": [
       "(929, 80)"
      ]
     },
     "execution_count": 52,
     "metadata": {},
     "output_type": "execute_result"
    }
   ],
   "source": [
    "test.shape"
   ]
  },
  {
   "cell_type": "code",
   "execution_count": 53,
   "metadata": {},
   "outputs": [],
   "source": [
    "test_numeric = test._get_numeric_data()"
   ]
  },
  {
   "cell_type": "code",
   "execution_count": 54,
   "metadata": {},
   "outputs": [
    {
     "data": {
      "text/plain": [
       "(929, 37)"
      ]
     },
     "execution_count": 54,
     "metadata": {},
     "output_type": "execute_result"
    }
   ],
   "source": [
    "test_numeric.shape"
   ]
  },
  {
   "cell_type": "markdown",
   "metadata": {},
   "source": [
    "Preprocess data"
   ]
  },
  {
   "cell_type": "code",
   "execution_count": 55,
   "metadata": {},
   "outputs": [],
   "source": [
    "test_numeric = preprocessing_pipeline(test_numeric)"
   ]
  },
  {
   "cell_type": "code",
   "execution_count": 56,
   "metadata": {},
   "outputs": [
    {
     "data": {
      "text/plain": [
       "(929, 37)"
      ]
     },
     "execution_count": 56,
     "metadata": {},
     "output_type": "execute_result"
    }
   ],
   "source": [
    "test_numeric.shape"
   ]
  },
  {
   "cell_type": "markdown",
   "metadata": {},
   "source": [
    "Drop the \"Id\" column."
   ]
  },
  {
   "cell_type": "code",
   "execution_count": 57,
   "metadata": {},
   "outputs": [],
   "source": [
    "test_numeric = test_numeric.drop(columns=['Id'])"
   ]
  },
  {
   "cell_type": "code",
   "execution_count": 58,
   "metadata": {},
   "outputs": [],
   "source": [
    "test_numeric = test_numeric[features_updated.columns]"
   ]
  },
  {
   "cell_type": "code",
   "execution_count": 59,
   "metadata": {},
   "outputs": [
    {
     "data": {
      "text/plain": [
       "(929, 16)"
      ]
     },
     "execution_count": 59,
     "metadata": {},
     "output_type": "execute_result"
    }
   ],
   "source": [
    "test_numeric.shape"
   ]
  },
  {
   "cell_type": "markdown",
   "metadata": {},
   "source": [
    "Get categorical test data"
   ]
  },
  {
   "cell_type": "markdown",
   "metadata": {},
   "source": [
    "Use dummy variables"
   ]
  },
  {
   "cell_type": "code",
   "execution_count": 60,
   "metadata": {},
   "outputs": [],
   "source": [
    "categorical_cols = [] #contains labels for all categorical columns\n",
    "for col in test.columns:\n",
    "    if col not in test_numeric.columns:\n",
    "        categorical_cols.append(col)"
   ]
  },
  {
   "cell_type": "code",
   "execution_count": 61,
   "metadata": {},
   "outputs": [],
   "source": [
    "test_categorical = test[train_cat_new.columns]"
   ]
  },
  {
   "cell_type": "code",
   "execution_count": 62,
   "metadata": {},
   "outputs": [
    {
     "data": {
      "text/plain": [
       "(929, 39)"
      ]
     },
     "execution_count": 62,
     "metadata": {},
     "output_type": "execute_result"
    }
   ],
   "source": [
    "test_categorical.shape"
   ]
  },
  {
   "cell_type": "code",
   "execution_count": 63,
   "metadata": {},
   "outputs": [],
   "source": [
    "test_categorical_dummies = pd.get_dummies(test_categorical)"
   ]
  },
  {
   "cell_type": "code",
   "execution_count": 64,
   "metadata": {},
   "outputs": [
    {
     "data": {
      "text/plain": [
       "(929, 236)"
      ]
     },
     "execution_count": 64,
     "metadata": {},
     "output_type": "execute_result"
    }
   ],
   "source": [
    "test_categorical_dummies.shape"
   ]
  },
  {
   "cell_type": "code",
   "execution_count": 65,
   "metadata": {},
   "outputs": [],
   "source": [
    "missing_cols = set( X_train_cat_dummies.columns ) - set( test_categorical_dummies.columns )"
   ]
  },
  {
   "cell_type": "code",
   "execution_count": 66,
   "metadata": {},
   "outputs": [
    {
     "data": {
      "text/plain": [
       "{'Heating_Floor', 'Kitchen Qual_Po', 'Neighborhood_Landmrk'}"
      ]
     },
     "execution_count": 66,
     "metadata": {},
     "output_type": "execute_result"
    }
   ],
   "source": [
    "missing_cols"
   ]
  },
  {
   "cell_type": "code",
   "execution_count": 67,
   "metadata": {},
   "outputs": [],
   "source": [
    "for c in missing_cols:\n",
    "    test_categorical_dummies[c] = 0"
   ]
  },
  {
   "cell_type": "code",
   "execution_count": 68,
   "metadata": {},
   "outputs": [],
   "source": [
    "test_categorical_dummies = test_categorical_dummies[X_train_cat_dummies.columns]"
   ]
  },
  {
   "cell_type": "code",
   "execution_count": 69,
   "metadata": {},
   "outputs": [
    {
     "data": {
      "text/plain": [
       "(929, 64)"
      ]
     },
     "execution_count": 69,
     "metadata": {},
     "output_type": "execute_result"
    }
   ],
   "source": [
    "test_categorical_dummies.shape"
   ]
  },
  {
   "cell_type": "code",
   "execution_count": 70,
   "metadata": {},
   "outputs": [
    {
     "data": {
      "text/plain": [
       "(2001, 64)"
      ]
     },
     "execution_count": 70,
     "metadata": {},
     "output_type": "execute_result"
    }
   ],
   "source": [
    "X_train_cat_dummies.shape"
   ]
  },
  {
   "cell_type": "code",
   "execution_count": 71,
   "metadata": {},
   "outputs": [],
   "source": [
    "X_test = pd.concat([test_categorical_dummies, test_numeric], axis=1)"
   ]
  },
  {
   "cell_type": "code",
   "execution_count": 72,
   "metadata": {},
   "outputs": [
    {
     "data": {
      "text/plain": [
       "(929, 80)"
      ]
     },
     "execution_count": 72,
     "metadata": {},
     "output_type": "execute_result"
    }
   ],
   "source": [
    "X_test.shape"
   ]
  },
  {
   "cell_type": "code",
   "execution_count": 73,
   "metadata": {},
   "outputs": [],
   "source": [
    "pred = model_both.predict(sm.add_constant(X_test))"
   ]
  },
  {
   "cell_type": "code",
   "execution_count": 74,
   "metadata": {},
   "outputs": [
    {
     "data": {
      "text/html": [
       "<div>\n",
       "<style scoped>\n",
       "    .dataframe tbody tr th:only-of-type {\n",
       "        vertical-align: middle;\n",
       "    }\n",
       "\n",
       "    .dataframe tbody tr th {\n",
       "        vertical-align: top;\n",
       "    }\n",
       "\n",
       "    .dataframe thead th {\n",
       "        text-align: right;\n",
       "    }\n",
       "</style>\n",
       "<table border=\"1\" class=\"dataframe\">\n",
       "  <thead>\n",
       "    <tr style=\"text-align: right;\">\n",
       "      <th></th>\n",
       "      <th>Id</th>\n",
       "      <th>SalePrice</th>\n",
       "    </tr>\n",
       "  </thead>\n",
       "  <tbody>\n",
       "    <tr>\n",
       "      <th>0</th>\n",
       "      <td>0</td>\n",
       "      <td>118200.159986</td>\n",
       "    </tr>\n",
       "    <tr>\n",
       "      <th>1</th>\n",
       "      <td>1</td>\n",
       "      <td>229735.419149</td>\n",
       "    </tr>\n",
       "    <tr>\n",
       "      <th>2</th>\n",
       "      <td>2</td>\n",
       "      <td>93663.127722</td>\n",
       "    </tr>\n",
       "    <tr>\n",
       "      <th>3</th>\n",
       "      <td>3</td>\n",
       "      <td>161446.110280</td>\n",
       "    </tr>\n",
       "    <tr>\n",
       "      <th>4</th>\n",
       "      <td>4</td>\n",
       "      <td>177742.315434</td>\n",
       "    </tr>\n",
       "  </tbody>\n",
       "</table>\n",
       "</div>"
      ],
      "text/plain": [
       "   Id      SalePrice\n",
       "0   0  118200.159986\n",
       "1   1  229735.419149\n",
       "2   2   93663.127722\n",
       "3   3  161446.110280\n",
       "4   4  177742.315434"
      ]
     },
     "execution_count": 74,
     "metadata": {},
     "output_type": "execute_result"
    }
   ],
   "source": [
    "sample_submission = pd.read_csv('/Users/gracegupta/Desktop/housing_data/sample_submission (1).csv')\n",
    "sample_submission.loc[:, 'SalePrice'] = pred\n",
    "sample_submission.to_csv('hw3_attemp3.csv', header=True, index=False)\n",
    "sample_submission.head()"
   ]
  },
  {
   "cell_type": "code",
   "execution_count": null,
   "metadata": {},
   "outputs": [],
   "source": []
  }
 ],
 "metadata": {
  "kernelspec": {
   "display_name": "Python 3",
   "language": "python",
   "name": "python3"
  },
  "language_info": {
   "codemirror_mode": {
    "name": "ipython",
    "version": 3
   },
   "file_extension": ".py",
   "mimetype": "text/x-python",
   "name": "python",
   "nbconvert_exporter": "python",
   "pygments_lexer": "ipython3",
   "version": "3.6.8"
  }
 },
 "nbformat": 4,
 "nbformat_minor": 2
}
